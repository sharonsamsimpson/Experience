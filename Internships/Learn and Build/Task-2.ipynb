{
 "cells": [
  {
   "cell_type": "markdown",
   "id": "04ca1d8a",
   "metadata": {},
   "source": [
    "__Name: Sharon Sam S__"
   ]
  },
  {
   "cell_type": "markdown",
   "id": "db975681",
   "metadata": {},
   "source": [
    "# Learn and Build  "
   ]
  },
  {
   "cell_type": "markdown",
   "id": "445d1b19",
   "metadata": {},
   "source": [
    "# Task-2 : Machine Learnig model - Profit of a Company"
   ]
  },
  {
   "cell_type": "markdown",
   "id": "8818a538",
   "metadata": {},
   "source": [
    "#### __Problem Statement:__\n",
    "\n",
    "`Train a machine learning model so that it's capable of predicting the profit of a company after their expense.`"
   ]
  },
  {
   "cell_type": "markdown",
   "id": "bda8b8ee",
   "metadata": {},
   "source": [
    "__Agenda:__\n",
    "    \n",
    "* `Import necessary libraries and dataset`\n",
    "\n",
    "* `Explore the data by printing the properties`\n",
    "\n",
    "* `Extraction of input and output features from dataset`\n",
    "\n",
    "* `Converting categorical feature to numeric`\n",
    "\n",
    "* `Split the dataset with 20% as test data`\n",
    "\n",
    "* `Normalizations using Standard Scaler and MinMax Scaler`\n",
    "\n",
    "* `Model Building using Linear, Ridge, Lasso Regressor models`\n",
    "\n",
    "* `Model Evaluation using r2 score and root mean squared error`\n",
    "\n",
    "* `Model Evaluation without Catergorical feature`\n",
    "\n",
    "* `Best Model Selection and Evaluation`\n",
    "\n",
    "* `Visualization of Regression Model`\n",
    "\n",
    "* `Predicted Values`"
   ]
  },
  {
   "cell_type": "markdown",
   "id": "543d2d68",
   "metadata": {},
   "source": [
    "### Import necessary Libraries"
   ]
  },
  {
   "cell_type": "code",
   "execution_count": 1,
   "id": "9adc7869",
   "metadata": {},
   "outputs": [],
   "source": [
    "import numpy as np\n",
    "import pandas as pd\n",
    "\n",
    "import matplotlib.pyplot as plt\n",
    "import seaborn as sns\n",
    "\n",
    "import math\n",
    "from math import sqrt\n",
    "\n",
    "import time\n",
    "from time import process_time\n",
    "\n",
    "from sklearn.model_selection import train_test_split\n",
    "\n",
    "from sklearn.pipeline import Pipeline\n",
    "\n",
    "from sklearn.preprocessing import StandardScaler, MinMaxScaler\n",
    "\n",
    "from sklearn.linear_model import LinearRegression, Ridge, Lasso\n",
    "\n",
    "from sklearn.metrics import *"
   ]
  },
  {
   "cell_type": "markdown",
   "id": "7a4732c8",
   "metadata": {},
   "source": [
    "### Import Dataset"
   ]
  },
  {
   "cell_type": "code",
   "execution_count": 2,
   "id": "28170cb1",
   "metadata": {},
   "outputs": [],
   "source": [
    "df = pd.read_csv(\"50_Startups (1).csv\")"
   ]
  },
  {
   "cell_type": "markdown",
   "id": "61ef0f5b",
   "metadata": {},
   "source": [
    "### Properties of the dataset"
   ]
  },
  {
   "cell_type": "code",
   "execution_count": 3,
   "id": "778e95c5",
   "metadata": {},
   "outputs": [
    {
     "data": {
      "text/html": [
       "<div>\n",
       "<style scoped>\n",
       "    .dataframe tbody tr th:only-of-type {\n",
       "        vertical-align: middle;\n",
       "    }\n",
       "\n",
       "    .dataframe tbody tr th {\n",
       "        vertical-align: top;\n",
       "    }\n",
       "\n",
       "    .dataframe thead th {\n",
       "        text-align: right;\n",
       "    }\n",
       "</style>\n",
       "<table border=\"1\" class=\"dataframe\">\n",
       "  <thead>\n",
       "    <tr style=\"text-align: right;\">\n",
       "      <th></th>\n",
       "      <th>R&amp;D Spend</th>\n",
       "      <th>Administration</th>\n",
       "      <th>Marketing Spend</th>\n",
       "      <th>State</th>\n",
       "      <th>Profit</th>\n",
       "    </tr>\n",
       "  </thead>\n",
       "  <tbody>\n",
       "    <tr>\n",
       "      <th>0</th>\n",
       "      <td>165349.20</td>\n",
       "      <td>136897.80</td>\n",
       "      <td>471784.10</td>\n",
       "      <td>New York</td>\n",
       "      <td>192261.83</td>\n",
       "    </tr>\n",
       "    <tr>\n",
       "      <th>1</th>\n",
       "      <td>162597.70</td>\n",
       "      <td>151377.59</td>\n",
       "      <td>443898.53</td>\n",
       "      <td>California</td>\n",
       "      <td>191792.06</td>\n",
       "    </tr>\n",
       "    <tr>\n",
       "      <th>2</th>\n",
       "      <td>153441.51</td>\n",
       "      <td>101145.55</td>\n",
       "      <td>407934.54</td>\n",
       "      <td>Florida</td>\n",
       "      <td>191050.39</td>\n",
       "    </tr>\n",
       "    <tr>\n",
       "      <th>3</th>\n",
       "      <td>144372.41</td>\n",
       "      <td>118671.85</td>\n",
       "      <td>383199.62</td>\n",
       "      <td>New York</td>\n",
       "      <td>182901.99</td>\n",
       "    </tr>\n",
       "    <tr>\n",
       "      <th>4</th>\n",
       "      <td>142107.34</td>\n",
       "      <td>91391.77</td>\n",
       "      <td>366168.42</td>\n",
       "      <td>Florida</td>\n",
       "      <td>166187.94</td>\n",
       "    </tr>\n",
       "  </tbody>\n",
       "</table>\n",
       "</div>"
      ],
      "text/plain": [
       "   R&D Spend  Administration  Marketing Spend       State     Profit\n",
       "0  165349.20       136897.80        471784.10    New York  192261.83\n",
       "1  162597.70       151377.59        443898.53  California  191792.06\n",
       "2  153441.51       101145.55        407934.54     Florida  191050.39\n",
       "3  144372.41       118671.85        383199.62    New York  182901.99\n",
       "4  142107.34        91391.77        366168.42     Florida  166187.94"
      ]
     },
     "execution_count": 3,
     "metadata": {},
     "output_type": "execute_result"
    }
   ],
   "source": [
    "df.head()"
   ]
  },
  {
   "cell_type": "code",
   "execution_count": 4,
   "id": "973c93e3",
   "metadata": {},
   "outputs": [
    {
     "data": {
      "text/html": [
       "<div>\n",
       "<style scoped>\n",
       "    .dataframe tbody tr th:only-of-type {\n",
       "        vertical-align: middle;\n",
       "    }\n",
       "\n",
       "    .dataframe tbody tr th {\n",
       "        vertical-align: top;\n",
       "    }\n",
       "\n",
       "    .dataframe thead th {\n",
       "        text-align: right;\n",
       "    }\n",
       "</style>\n",
       "<table border=\"1\" class=\"dataframe\">\n",
       "  <thead>\n",
       "    <tr style=\"text-align: right;\">\n",
       "      <th></th>\n",
       "      <th>R&amp;D Spend</th>\n",
       "      <th>Administration</th>\n",
       "      <th>Marketing Spend</th>\n",
       "      <th>State</th>\n",
       "      <th>Profit</th>\n",
       "    </tr>\n",
       "  </thead>\n",
       "  <tbody>\n",
       "    <tr>\n",
       "      <th>45</th>\n",
       "      <td>1000.23</td>\n",
       "      <td>124153.04</td>\n",
       "      <td>1903.93</td>\n",
       "      <td>New York</td>\n",
       "      <td>64926.08</td>\n",
       "    </tr>\n",
       "    <tr>\n",
       "      <th>46</th>\n",
       "      <td>1315.46</td>\n",
       "      <td>115816.21</td>\n",
       "      <td>297114.46</td>\n",
       "      <td>Florida</td>\n",
       "      <td>49490.75</td>\n",
       "    </tr>\n",
       "    <tr>\n",
       "      <th>47</th>\n",
       "      <td>0.00</td>\n",
       "      <td>135426.92</td>\n",
       "      <td>0.00</td>\n",
       "      <td>California</td>\n",
       "      <td>42559.73</td>\n",
       "    </tr>\n",
       "    <tr>\n",
       "      <th>48</th>\n",
       "      <td>542.05</td>\n",
       "      <td>51743.15</td>\n",
       "      <td>0.00</td>\n",
       "      <td>New York</td>\n",
       "      <td>35673.41</td>\n",
       "    </tr>\n",
       "    <tr>\n",
       "      <th>49</th>\n",
       "      <td>0.00</td>\n",
       "      <td>116983.80</td>\n",
       "      <td>45173.06</td>\n",
       "      <td>California</td>\n",
       "      <td>14681.40</td>\n",
       "    </tr>\n",
       "  </tbody>\n",
       "</table>\n",
       "</div>"
      ],
      "text/plain": [
       "    R&D Spend  Administration  Marketing Spend       State    Profit\n",
       "45    1000.23       124153.04          1903.93    New York  64926.08\n",
       "46    1315.46       115816.21        297114.46     Florida  49490.75\n",
       "47       0.00       135426.92             0.00  California  42559.73\n",
       "48     542.05        51743.15             0.00    New York  35673.41\n",
       "49       0.00       116983.80         45173.06  California  14681.40"
      ]
     },
     "execution_count": 4,
     "metadata": {},
     "output_type": "execute_result"
    }
   ],
   "source": [
    "df.tail()"
   ]
  },
  {
   "cell_type": "code",
   "execution_count": 5,
   "id": "82135539",
   "metadata": {},
   "outputs": [
    {
     "name": "stdout",
     "output_type": "stream",
     "text": [
      "There are 50 samples and 5 features with totally 250 elements in the dataset\n"
     ]
    }
   ],
   "source": [
    "print(\"There are\", df.shape[0], \"samples and\", df.shape[1], \"features with totally\", df.size, \"elements in the dataset\")"
   ]
  },
  {
   "cell_type": "code",
   "execution_count": 6,
   "id": "4335b327",
   "metadata": {},
   "outputs": [
    {
     "name": "stdout",
     "output_type": "stream",
     "text": [
      "<class 'pandas.core.frame.DataFrame'>\n",
      "RangeIndex: 50 entries, 0 to 49\n",
      "Data columns (total 5 columns):\n",
      " #   Column           Non-Null Count  Dtype  \n",
      "---  ------           --------------  -----  \n",
      " 0   R&D Spend        50 non-null     float64\n",
      " 1   Administration   50 non-null     float64\n",
      " 2   Marketing Spend  50 non-null     float64\n",
      " 3   State            50 non-null     object \n",
      " 4   Profit           50 non-null     float64\n",
      "dtypes: float64(4), object(1)\n",
      "memory usage: 2.1+ KB\n"
     ]
    }
   ],
   "source": [
    "df.info()"
   ]
  },
  {
   "cell_type": "markdown",
   "id": "c9a02683",
   "metadata": {},
   "source": [
    "`We see that the data contains:`\n",
    "\n",
    "__4 input features:__\n",
    "\n",
    "    - R&D Spend\n",
    "    - Administration\n",
    "    - Marketing Spend\n",
    "    - State \n",
    "\n",
    "__1 output feature:__\n",
    "\n",
    "    - Profit\n",
    "    \n",
    "__Missing Values:__\n",
    "    \n",
    "    There are no missing values in the dataset"
   ]
  },
  {
   "cell_type": "markdown",
   "id": "5ca036f9",
   "metadata": {},
   "source": [
    "### Descriptive Stats of the dataset"
   ]
  },
  {
   "cell_type": "code",
   "execution_count": 7,
   "id": "880bd9ab",
   "metadata": {},
   "outputs": [
    {
     "data": {
      "text/html": [
       "<div>\n",
       "<style scoped>\n",
       "    .dataframe tbody tr th:only-of-type {\n",
       "        vertical-align: middle;\n",
       "    }\n",
       "\n",
       "    .dataframe tbody tr th {\n",
       "        vertical-align: top;\n",
       "    }\n",
       "\n",
       "    .dataframe thead th {\n",
       "        text-align: right;\n",
       "    }\n",
       "</style>\n",
       "<table border=\"1\" class=\"dataframe\">\n",
       "  <thead>\n",
       "    <tr style=\"text-align: right;\">\n",
       "      <th></th>\n",
       "      <th>R&amp;D Spend</th>\n",
       "      <th>Administration</th>\n",
       "      <th>Marketing Spend</th>\n",
       "      <th>State</th>\n",
       "      <th>Profit</th>\n",
       "    </tr>\n",
       "  </thead>\n",
       "  <tbody>\n",
       "    <tr>\n",
       "      <th>count</th>\n",
       "      <td>50.000000</td>\n",
       "      <td>50.000000</td>\n",
       "      <td>50.000000</td>\n",
       "      <td>50</td>\n",
       "      <td>50.000000</td>\n",
       "    </tr>\n",
       "    <tr>\n",
       "      <th>unique</th>\n",
       "      <td>NaN</td>\n",
       "      <td>NaN</td>\n",
       "      <td>NaN</td>\n",
       "      <td>3</td>\n",
       "      <td>NaN</td>\n",
       "    </tr>\n",
       "    <tr>\n",
       "      <th>top</th>\n",
       "      <td>NaN</td>\n",
       "      <td>NaN</td>\n",
       "      <td>NaN</td>\n",
       "      <td>New York</td>\n",
       "      <td>NaN</td>\n",
       "    </tr>\n",
       "    <tr>\n",
       "      <th>freq</th>\n",
       "      <td>NaN</td>\n",
       "      <td>NaN</td>\n",
       "      <td>NaN</td>\n",
       "      <td>17</td>\n",
       "      <td>NaN</td>\n",
       "    </tr>\n",
       "    <tr>\n",
       "      <th>mean</th>\n",
       "      <td>73721.615600</td>\n",
       "      <td>121344.639600</td>\n",
       "      <td>211025.097800</td>\n",
       "      <td>NaN</td>\n",
       "      <td>112012.639200</td>\n",
       "    </tr>\n",
       "    <tr>\n",
       "      <th>std</th>\n",
       "      <td>45902.256482</td>\n",
       "      <td>28017.802755</td>\n",
       "      <td>122290.310726</td>\n",
       "      <td>NaN</td>\n",
       "      <td>40306.180338</td>\n",
       "    </tr>\n",
       "    <tr>\n",
       "      <th>min</th>\n",
       "      <td>0.000000</td>\n",
       "      <td>51283.140000</td>\n",
       "      <td>0.000000</td>\n",
       "      <td>NaN</td>\n",
       "      <td>14681.400000</td>\n",
       "    </tr>\n",
       "    <tr>\n",
       "      <th>25%</th>\n",
       "      <td>39936.370000</td>\n",
       "      <td>103730.875000</td>\n",
       "      <td>129300.132500</td>\n",
       "      <td>NaN</td>\n",
       "      <td>90138.902500</td>\n",
       "    </tr>\n",
       "    <tr>\n",
       "      <th>50%</th>\n",
       "      <td>73051.080000</td>\n",
       "      <td>122699.795000</td>\n",
       "      <td>212716.240000</td>\n",
       "      <td>NaN</td>\n",
       "      <td>107978.190000</td>\n",
       "    </tr>\n",
       "    <tr>\n",
       "      <th>75%</th>\n",
       "      <td>101602.800000</td>\n",
       "      <td>144842.180000</td>\n",
       "      <td>299469.085000</td>\n",
       "      <td>NaN</td>\n",
       "      <td>139765.977500</td>\n",
       "    </tr>\n",
       "    <tr>\n",
       "      <th>max</th>\n",
       "      <td>165349.200000</td>\n",
       "      <td>182645.560000</td>\n",
       "      <td>471784.100000</td>\n",
       "      <td>NaN</td>\n",
       "      <td>192261.830000</td>\n",
       "    </tr>\n",
       "  </tbody>\n",
       "</table>\n",
       "</div>"
      ],
      "text/plain": [
       "            R&D Spend  Administration  Marketing Spend     State  \\\n",
       "count       50.000000       50.000000        50.000000        50   \n",
       "unique            NaN             NaN              NaN         3   \n",
       "top               NaN             NaN              NaN  New York   \n",
       "freq              NaN             NaN              NaN        17   \n",
       "mean     73721.615600   121344.639600    211025.097800       NaN   \n",
       "std      45902.256482    28017.802755    122290.310726       NaN   \n",
       "min          0.000000    51283.140000         0.000000       NaN   \n",
       "25%      39936.370000   103730.875000    129300.132500       NaN   \n",
       "50%      73051.080000   122699.795000    212716.240000       NaN   \n",
       "75%     101602.800000   144842.180000    299469.085000       NaN   \n",
       "max     165349.200000   182645.560000    471784.100000       NaN   \n",
       "\n",
       "               Profit  \n",
       "count       50.000000  \n",
       "unique            NaN  \n",
       "top               NaN  \n",
       "freq              NaN  \n",
       "mean    112012.639200  \n",
       "std      40306.180338  \n",
       "min      14681.400000  \n",
       "25%      90138.902500  \n",
       "50%     107978.190000  \n",
       "75%     139765.977500  \n",
       "max     192261.830000  "
      ]
     },
     "execution_count": 7,
     "metadata": {},
     "output_type": "execute_result"
    }
   ],
   "source": [
    "df.describe(include='all')"
   ]
  },
  {
   "cell_type": "code",
   "execution_count": 8,
   "id": "f4e7b428",
   "metadata": {},
   "outputs": [
    {
     "data": {
      "text/plain": [
       "New York      17\n",
       "California    17\n",
       "Florida       16\n",
       "Name: State, dtype: int64"
      ]
     },
     "execution_count": 8,
     "metadata": {},
     "output_type": "execute_result"
    }
   ],
   "source": [
    "df['State'].value_counts()"
   ]
  },
  {
   "cell_type": "markdown",
   "id": "f5cd9267",
   "metadata": {},
   "source": [
    "### Extraction of input and output features from dataset"
   ]
  },
  {
   "cell_type": "code",
   "execution_count": 9,
   "id": "9902b208",
   "metadata": {},
   "outputs": [],
   "source": [
    "X = df.drop(['Profit'], axis=1)\n",
    "\n",
    "y = df['Profit']"
   ]
  },
  {
   "cell_type": "markdown",
   "id": "f810f198",
   "metadata": {},
   "source": [
    "### Converting categorical feature to numeric"
   ]
  },
  {
   "cell_type": "code",
   "execution_count": 10,
   "id": "b72f159d",
   "metadata": {},
   "outputs": [],
   "source": [
    "X = pd.get_dummies(X)"
   ]
  },
  {
   "cell_type": "code",
   "execution_count": 11,
   "id": "507b32be",
   "metadata": {},
   "outputs": [
    {
     "data": {
      "text/html": [
       "<div>\n",
       "<style scoped>\n",
       "    .dataframe tbody tr th:only-of-type {\n",
       "        vertical-align: middle;\n",
       "    }\n",
       "\n",
       "    .dataframe tbody tr th {\n",
       "        vertical-align: top;\n",
       "    }\n",
       "\n",
       "    .dataframe thead th {\n",
       "        text-align: right;\n",
       "    }\n",
       "</style>\n",
       "<table border=\"1\" class=\"dataframe\">\n",
       "  <thead>\n",
       "    <tr style=\"text-align: right;\">\n",
       "      <th></th>\n",
       "      <th>R&amp;D Spend</th>\n",
       "      <th>Administration</th>\n",
       "      <th>Marketing Spend</th>\n",
       "      <th>State_California</th>\n",
       "      <th>State_Florida</th>\n",
       "      <th>State_New York</th>\n",
       "    </tr>\n",
       "  </thead>\n",
       "  <tbody>\n",
       "    <tr>\n",
       "      <th>0</th>\n",
       "      <td>165349.20</td>\n",
       "      <td>136897.80</td>\n",
       "      <td>471784.10</td>\n",
       "      <td>0</td>\n",
       "      <td>0</td>\n",
       "      <td>1</td>\n",
       "    </tr>\n",
       "    <tr>\n",
       "      <th>1</th>\n",
       "      <td>162597.70</td>\n",
       "      <td>151377.59</td>\n",
       "      <td>443898.53</td>\n",
       "      <td>1</td>\n",
       "      <td>0</td>\n",
       "      <td>0</td>\n",
       "    </tr>\n",
       "    <tr>\n",
       "      <th>2</th>\n",
       "      <td>153441.51</td>\n",
       "      <td>101145.55</td>\n",
       "      <td>407934.54</td>\n",
       "      <td>0</td>\n",
       "      <td>1</td>\n",
       "      <td>0</td>\n",
       "    </tr>\n",
       "  </tbody>\n",
       "</table>\n",
       "</div>"
      ],
      "text/plain": [
       "   R&D Spend  Administration  Marketing Spend  State_California  \\\n",
       "0  165349.20       136897.80        471784.10                 0   \n",
       "1  162597.70       151377.59        443898.53                 1   \n",
       "2  153441.51       101145.55        407934.54                 0   \n",
       "\n",
       "   State_Florida  State_New York  \n",
       "0              0               1  \n",
       "1              0               0  \n",
       "2              1               0  "
      ]
     },
     "execution_count": 11,
     "metadata": {},
     "output_type": "execute_result"
    }
   ],
   "source": [
    "X.head(3)"
   ]
  },
  {
   "cell_type": "code",
   "execution_count": 12,
   "id": "836c3a7c",
   "metadata": {},
   "outputs": [
    {
     "data": {
      "text/plain": [
       "0    192261.83\n",
       "1    191792.06\n",
       "2    191050.39\n",
       "Name: Profit, dtype: float64"
      ]
     },
     "execution_count": 12,
     "metadata": {},
     "output_type": "execute_result"
    }
   ],
   "source": [
    "y.head(3)"
   ]
  },
  {
   "cell_type": "markdown",
   "id": "30edf7a5",
   "metadata": {},
   "source": [
    "### Split the dataset"
   ]
  },
  {
   "cell_type": "code",
   "execution_count": 13,
   "id": "9ba033b3",
   "metadata": {},
   "outputs": [
    {
     "name": "stdout",
     "output_type": "stream",
     "text": [
      "Shape of training set:\n",
      "X_train (40, 6)\n",
      "y_train (40,)\n",
      "\n",
      "\n",
      "Shape of testing set:\n",
      "X_test (10, 6)\n",
      "y_test (10,)\n"
     ]
    }
   ],
   "source": [
    "X_train, X_test, y_train, y_test = train_test_split(X, y, test_size = 0.2, random_state=0)\n",
    "\n",
    "print(\"Shape of training set:\")\n",
    "print(\"X_train\", X_train.shape)\n",
    "print(\"y_train\", y_train.shape)\n",
    "print(\"\\n\")\n",
    "print(\"Shape of testing set:\")\n",
    "print(\"X_test\", X_test.shape)\n",
    "print(\"y_test\", y_test.shape)"
   ]
  },
  {
   "cell_type": "markdown",
   "id": "fd35d04e",
   "metadata": {},
   "source": [
    "### Model Building and Evaluation"
   ]
  },
  {
   "cell_type": "code",
   "execution_count": 14,
   "id": "f4dd12c6",
   "metadata": {},
   "outputs": [],
   "source": [
    "ss_lr = [('ss', StandardScaler()), ('lr', LinearRegression())]\n",
    "mm_lr = [('mm', MinMaxScaler()), ('lr', LinearRegression())]\n",
    "\n",
    "ss_rr = [('ss', StandardScaler()), ('rr', Ridge())]\n",
    "mm_rr = [('mm', MinMaxScaler()), ('rr', Ridge())]\n",
    "\n",
    "ss_ls = [('ss', StandardScaler()), ('ls', Lasso())]\n",
    "mm_ls = [('mm', MinMaxScaler()), ('ls', Lasso())]\n",
    "\n",
    "models = { \n",
    "    \"Linear Regression\": LinearRegression(),\n",
    "    \"Linear Regression with StandardScaler\": Pipeline(ss_lr),\n",
    "    \"Linear Regression with MinMaxScaler\": Pipeline(mm_lr), \n",
    "    \"Ridge Regression with StandardScaler\": Pipeline(ss_rr),\n",
    "    \"Ridge Regression with MinMaxScaler\": Pipeline(mm_rr),  \n",
    "    \"Lasso Regression with StandardScaler\": Pipeline(ss_ls),\n",
    "    \"Lasso Regression with MinMaxScaler\": Pipeline(mm_ls),\n",
    "}"
   ]
  },
  {
   "cell_type": "code",
   "execution_count": 15,
   "id": "af068249",
   "metadata": {},
   "outputs": [],
   "source": [
    "no_models = len(models.keys())\n",
    "\n",
    "def build(X_train, X_test, y_train, y_test, verbose = True):\n",
    "    \n",
    "    df_results = pd.DataFrame(data=np.zeros(shape=(no_models, 4)), columns = ['Models','r2 Score','RMSE','Training time'])\n",
    "    \n",
    "    count = 0\n",
    "    for key, model in models.items():\n",
    "        \n",
    "        t_start = process_time()  \n",
    "        model.fit(X_train, y_train)\n",
    "        \n",
    "        t_stop = process_time() \n",
    "        t_elapsed = t_stop - t_start\n",
    "        \n",
    "        y_pred = model.predict(X_test)\n",
    "        \n",
    "        df_results.loc[count,'Models'] = key\n",
    "        df_results.loc[count,'r2 Score'] = r2_score(y_test, y_pred)\n",
    "        df_results.loc[count,'RMSE'] = sqrt(mean_squared_error(y_test, y_pred))\n",
    "        df_results.loc[count,'Training time'] = t_elapsed\n",
    "        \n",
    "        count+=1\n",
    "\n",
    "    return df_results"
   ]
  },
  {
   "cell_type": "code",
   "execution_count": 16,
   "id": "c4169df5",
   "metadata": {},
   "outputs": [
    {
     "data": {
      "text/html": [
       "<div>\n",
       "<style scoped>\n",
       "    .dataframe tbody tr th:only-of-type {\n",
       "        vertical-align: middle;\n",
       "    }\n",
       "\n",
       "    .dataframe tbody tr th {\n",
       "        vertical-align: top;\n",
       "    }\n",
       "\n",
       "    .dataframe thead th {\n",
       "        text-align: right;\n",
       "    }\n",
       "</style>\n",
       "<table border=\"1\" class=\"dataframe\">\n",
       "  <thead>\n",
       "    <tr style=\"text-align: right;\">\n",
       "      <th></th>\n",
       "      <th>Models</th>\n",
       "      <th>r2 Score</th>\n",
       "      <th>RMSE</th>\n",
       "      <th>Training time</th>\n",
       "    </tr>\n",
       "  </thead>\n",
       "  <tbody>\n",
       "    <tr>\n",
       "      <th>6</th>\n",
       "      <td>Lasso Regression with MinMaxScaler</td>\n",
       "      <td>0.934799</td>\n",
       "      <td>9131.545532</td>\n",
       "      <td>0.000000</td>\n",
       "    </tr>\n",
       "    <tr>\n",
       "      <th>5</th>\n",
       "      <td>Lasso Regression with StandardScaler</td>\n",
       "      <td>0.934751</td>\n",
       "      <td>9134.908928</td>\n",
       "      <td>0.000000</td>\n",
       "    </tr>\n",
       "    <tr>\n",
       "      <th>1</th>\n",
       "      <td>Linear Regression with StandardScaler</td>\n",
       "      <td>0.934707</td>\n",
       "      <td>9137.990153</td>\n",
       "      <td>0.015625</td>\n",
       "    </tr>\n",
       "    <tr>\n",
       "      <th>0</th>\n",
       "      <td>Linear Regression</td>\n",
       "      <td>0.934707</td>\n",
       "      <td>9137.990153</td>\n",
       "      <td>0.031250</td>\n",
       "    </tr>\n",
       "    <tr>\n",
       "      <th>2</th>\n",
       "      <td>Linear Regression with MinMaxScaler</td>\n",
       "      <td>0.934707</td>\n",
       "      <td>9137.990153</td>\n",
       "      <td>0.000000</td>\n",
       "    </tr>\n",
       "    <tr>\n",
       "      <th>3</th>\n",
       "      <td>Ridge Regression with StandardScaler</td>\n",
       "      <td>0.922005</td>\n",
       "      <td>9987.379478</td>\n",
       "      <td>0.015625</td>\n",
       "    </tr>\n",
       "    <tr>\n",
       "      <th>4</th>\n",
       "      <td>Ridge Regression with MinMaxScaler</td>\n",
       "      <td>0.802018</td>\n",
       "      <td>15912.169060</td>\n",
       "      <td>0.000000</td>\n",
       "    </tr>\n",
       "  </tbody>\n",
       "</table>\n",
       "</div>"
      ],
      "text/plain": [
       "                                  Models  r2 Score          RMSE  \\\n",
       "6     Lasso Regression with MinMaxScaler  0.934799   9131.545532   \n",
       "5   Lasso Regression with StandardScaler  0.934751   9134.908928   \n",
       "1  Linear Regression with StandardScaler  0.934707   9137.990153   \n",
       "0                      Linear Regression  0.934707   9137.990153   \n",
       "2    Linear Regression with MinMaxScaler  0.934707   9137.990153   \n",
       "3   Ridge Regression with StandardScaler  0.922005   9987.379478   \n",
       "4     Ridge Regression with MinMaxScaler  0.802018  15912.169060   \n",
       "\n",
       "   Training time  \n",
       "6       0.000000  \n",
       "5       0.000000  \n",
       "1       0.015625  \n",
       "0       0.031250  \n",
       "2       0.000000  \n",
       "3       0.015625  \n",
       "4       0.000000  "
      ]
     },
     "execution_count": 16,
     "metadata": {},
     "output_type": "execute_result"
    }
   ],
   "source": [
    "df_results = build(X_train, X_test, y_train, y_test)\n",
    "df_results.sort_values(by='r2 Score', ascending=False)"
   ]
  },
  {
   "cell_type": "markdown",
   "id": "eea8f7cf",
   "metadata": {},
   "source": [
    "### Model Evaluation without Catergorical feature"
   ]
  },
  {
   "cell_type": "code",
   "execution_count": 17,
   "id": "9199e85e",
   "metadata": {},
   "outputs": [],
   "source": [
    "del df['State']"
   ]
  },
  {
   "cell_type": "code",
   "execution_count": 18,
   "id": "ebeec0fd",
   "metadata": {},
   "outputs": [
    {
     "data": {
      "text/html": [
       "<div>\n",
       "<style scoped>\n",
       "    .dataframe tbody tr th:only-of-type {\n",
       "        vertical-align: middle;\n",
       "    }\n",
       "\n",
       "    .dataframe tbody tr th {\n",
       "        vertical-align: top;\n",
       "    }\n",
       "\n",
       "    .dataframe thead th {\n",
       "        text-align: right;\n",
       "    }\n",
       "</style>\n",
       "<table border=\"1\" class=\"dataframe\">\n",
       "  <thead>\n",
       "    <tr style=\"text-align: right;\">\n",
       "      <th></th>\n",
       "      <th>R&amp;D Spend</th>\n",
       "      <th>Administration</th>\n",
       "      <th>Marketing Spend</th>\n",
       "      <th>Profit</th>\n",
       "    </tr>\n",
       "  </thead>\n",
       "  <tbody>\n",
       "    <tr>\n",
       "      <th>0</th>\n",
       "      <td>165349.20</td>\n",
       "      <td>136897.80</td>\n",
       "      <td>471784.10</td>\n",
       "      <td>192261.83</td>\n",
       "    </tr>\n",
       "    <tr>\n",
       "      <th>1</th>\n",
       "      <td>162597.70</td>\n",
       "      <td>151377.59</td>\n",
       "      <td>443898.53</td>\n",
       "      <td>191792.06</td>\n",
       "    </tr>\n",
       "    <tr>\n",
       "      <th>2</th>\n",
       "      <td>153441.51</td>\n",
       "      <td>101145.55</td>\n",
       "      <td>407934.54</td>\n",
       "      <td>191050.39</td>\n",
       "    </tr>\n",
       "    <tr>\n",
       "      <th>3</th>\n",
       "      <td>144372.41</td>\n",
       "      <td>118671.85</td>\n",
       "      <td>383199.62</td>\n",
       "      <td>182901.99</td>\n",
       "    </tr>\n",
       "    <tr>\n",
       "      <th>4</th>\n",
       "      <td>142107.34</td>\n",
       "      <td>91391.77</td>\n",
       "      <td>366168.42</td>\n",
       "      <td>166187.94</td>\n",
       "    </tr>\n",
       "  </tbody>\n",
       "</table>\n",
       "</div>"
      ],
      "text/plain": [
       "   R&D Spend  Administration  Marketing Spend     Profit\n",
       "0  165349.20       136897.80        471784.10  192261.83\n",
       "1  162597.70       151377.59        443898.53  191792.06\n",
       "2  153441.51       101145.55        407934.54  191050.39\n",
       "3  144372.41       118671.85        383199.62  182901.99\n",
       "4  142107.34        91391.77        366168.42  166187.94"
      ]
     },
     "execution_count": 18,
     "metadata": {},
     "output_type": "execute_result"
    }
   ],
   "source": [
    "df.head()"
   ]
  },
  {
   "cell_type": "code",
   "execution_count": 19,
   "id": "ca4c56cf",
   "metadata": {},
   "outputs": [],
   "source": [
    "X_wc = df.drop(['Profit'], axis=1)\n",
    "y_wc = df.Profit"
   ]
  },
  {
   "cell_type": "code",
   "execution_count": 20,
   "id": "2e68bff7",
   "metadata": {},
   "outputs": [
    {
     "name": "stdout",
     "output_type": "stream",
     "text": [
      "Shape of training set:\n",
      "X_train_wc (40, 3)\n",
      "y_train_wc (40,)\n",
      "\n",
      "\n",
      "Shape of testing set:\n",
      "X_test_wc (10, 3)\n",
      "y_test_wc (10,)\n"
     ]
    }
   ],
   "source": [
    "X_train_wc, X_test_wc, y_train_wc, y_test_wc = train_test_split(X_wc, y_wc, test_size = 0.2, random_state=0)\n",
    "\n",
    "print(\"Shape of training set:\")\n",
    "print(\"X_train_wc\", X_train_wc.shape)\n",
    "print(\"y_train_wc\", y_train_wc.shape)\n",
    "print(\"\\n\")\n",
    "print(\"Shape of testing set:\")\n",
    "print(\"X_test_wc\", X_test_wc.shape)\n",
    "print(\"y_test_wc\", y_test_wc.shape)"
   ]
  },
  {
   "cell_type": "code",
   "execution_count": 21,
   "id": "2164196e",
   "metadata": {},
   "outputs": [
    {
     "data": {
      "text/html": [
       "<div>\n",
       "<style scoped>\n",
       "    .dataframe tbody tr th:only-of-type {\n",
       "        vertical-align: middle;\n",
       "    }\n",
       "\n",
       "    .dataframe tbody tr th {\n",
       "        vertical-align: top;\n",
       "    }\n",
       "\n",
       "    .dataframe thead th {\n",
       "        text-align: right;\n",
       "    }\n",
       "</style>\n",
       "<table border=\"1\" class=\"dataframe\">\n",
       "  <thead>\n",
       "    <tr style=\"text-align: right;\">\n",
       "      <th></th>\n",
       "      <th>Models</th>\n",
       "      <th>r2 Score</th>\n",
       "      <th>RMSE</th>\n",
       "      <th>Training time</th>\n",
       "    </tr>\n",
       "  </thead>\n",
       "  <tbody>\n",
       "    <tr>\n",
       "      <th>6</th>\n",
       "      <td>Lasso Regression with MinMaxScaler</td>\n",
       "      <td>0.939452</td>\n",
       "      <td>8799.683636</td>\n",
       "      <td>0.015625</td>\n",
       "    </tr>\n",
       "    <tr>\n",
       "      <th>5</th>\n",
       "      <td>Lasso Regression with StandardScaler</td>\n",
       "      <td>0.939419</td>\n",
       "      <td>8802.055082</td>\n",
       "      <td>0.000000</td>\n",
       "    </tr>\n",
       "    <tr>\n",
       "      <th>0</th>\n",
       "      <td>Linear Regression</td>\n",
       "      <td>0.939396</td>\n",
       "      <td>8803.775790</td>\n",
       "      <td>0.000000</td>\n",
       "    </tr>\n",
       "    <tr>\n",
       "      <th>1</th>\n",
       "      <td>Linear Regression with StandardScaler</td>\n",
       "      <td>0.939396</td>\n",
       "      <td>8803.775790</td>\n",
       "      <td>0.015625</td>\n",
       "    </tr>\n",
       "    <tr>\n",
       "      <th>2</th>\n",
       "      <td>Linear Regression with MinMaxScaler</td>\n",
       "      <td>0.939396</td>\n",
       "      <td>8803.775790</td>\n",
       "      <td>0.000000</td>\n",
       "    </tr>\n",
       "    <tr>\n",
       "      <th>3</th>\n",
       "      <td>Ridge Regression with StandardScaler</td>\n",
       "      <td>0.930196</td>\n",
       "      <td>9448.341344</td>\n",
       "      <td>0.000000</td>\n",
       "    </tr>\n",
       "    <tr>\n",
       "      <th>4</th>\n",
       "      <td>Ridge Regression with MinMaxScaler</td>\n",
       "      <td>0.837549</td>\n",
       "      <td>14413.798185</td>\n",
       "      <td>0.015625</td>\n",
       "    </tr>\n",
       "  </tbody>\n",
       "</table>\n",
       "</div>"
      ],
      "text/plain": [
       "                                  Models  r2 Score          RMSE  \\\n",
       "6     Lasso Regression with MinMaxScaler  0.939452   8799.683636   \n",
       "5   Lasso Regression with StandardScaler  0.939419   8802.055082   \n",
       "0                      Linear Regression  0.939396   8803.775790   \n",
       "1  Linear Regression with StandardScaler  0.939396   8803.775790   \n",
       "2    Linear Regression with MinMaxScaler  0.939396   8803.775790   \n",
       "3   Ridge Regression with StandardScaler  0.930196   9448.341344   \n",
       "4     Ridge Regression with MinMaxScaler  0.837549  14413.798185   \n",
       "\n",
       "   Training time  \n",
       "6       0.015625  \n",
       "5       0.000000  \n",
       "0       0.000000  \n",
       "1       0.015625  \n",
       "2       0.000000  \n",
       "3       0.000000  \n",
       "4       0.015625  "
      ]
     },
     "execution_count": 21,
     "metadata": {},
     "output_type": "execute_result"
    }
   ],
   "source": [
    "df_results_wc = build(X_train_wc, X_test_wc, y_train_wc, y_test_wc)\n",
    "df_results_wc.sort_values(by='r2 Score', ascending=False)"
   ]
  },
  {
   "cell_type": "markdown",
   "id": "a04fdca5",
   "metadata": {},
   "source": [
    "# Best Model "
   ]
  },
  {
   "cell_type": "markdown",
   "id": "769aee78",
   "metadata": {},
   "source": [
    "__Lasso Regression with MinMaxScaler with highest `r2 score = 0.93479` and with lowest `RMSE = 9131.545532`__"
   ]
  },
  {
   "cell_type": "code",
   "execution_count": 22,
   "id": "7345c0f5",
   "metadata": {},
   "outputs": [
    {
     "name": "stdout",
     "output_type": "stream",
     "text": [
      "Model Results:\n",
      "\n",
      "Accuracy of the best Model = 0.9347989116076313\n",
      "Residual Error of the best Model = 9131.545531817224\n",
      "\n",
      "\n",
      "Values of Model Parameters:\n",
      "\n",
      "  Coefficient [127915.66626727   3476.09108902  17239.72658993   -163.93952875\n",
      "  -1117.95560885    530.96949839]\n",
      "  Intercept 44424.14888376119\n"
     ]
    }
   ],
   "source": [
    "scaler = MinMaxScaler()\n",
    "\n",
    "scaled_X_train = scaler.fit_transform(X_train)\n",
    "\n",
    "scaled_X_test = scaler.transform(X_test)\n",
    "\n",
    "model = Lasso()\n",
    "\n",
    "model.fit(scaled_X_train, y_train)\n",
    "\n",
    "model_y_pred = model.predict(scaled_X_test)\n",
    "\n",
    "print(\"Model Results:\\n\")\n",
    "print(\"Accuracy of the best Model =\", r2_score(y_test, model_y_pred))\n",
    "print(\"Residual Error of the best Model =\", sqrt(mean_squared_error(y_test, model_y_pred)))\n",
    "print(\"\\n\")\n",
    "print(\"Values of Model Parameters:\\n\")\n",
    "print(\"  Coefficient\", model.coef_)\n",
    "print(\"  Intercept\", model.intercept_)"
   ]
  },
  {
   "cell_type": "markdown",
   "id": "822f5278",
   "metadata": {},
   "source": [
    "### Visualization"
   ]
  },
  {
   "cell_type": "code",
   "execution_count": 23,
   "id": "a8422e5b",
   "metadata": {},
   "outputs": [
    {
     "data": {
      "image/png": "[encoded data removed]",
      "text/plain": [
       "<Figure size 432x288 with 1 Axes>"
      ]
     },
     "metadata": {
      "needs_background": "light"
     },
     "output_type": "display_data"
    }
   ],
   "source": [
    "sns.regplot(x=y_test, y=model_y_pred, color='orange', marker='*')\n",
    "plt.title(\"Best Model\")\n",
    "plt.xlabel('Actual Values')\n",
    "plt.ylabel('Predicted Values')\n",
    "plt.show()"
   ]
  },
  {
   "cell_type": "markdown",
   "id": "572edaf2",
   "metadata": {},
   "source": [
    "### Predicted Values"
   ]
  },
  {
   "cell_type": "code",
   "execution_count": 24,
   "id": "69efcb37",
   "metadata": {},
   "outputs": [
    {
     "data": {
      "text/html": [
       "<div>\n",
       "<style scoped>\n",
       "    .dataframe tbody tr th:only-of-type {\n",
       "        vertical-align: middle;\n",
       "    }\n",
       "\n",
       "    .dataframe tbody tr th {\n",
       "        vertical-align: top;\n",
       "    }\n",
       "\n",
       "    .dataframe thead th {\n",
       "        text-align: right;\n",
       "    }\n",
       "</style>\n",
       "<table border=\"1\" class=\"dataframe\">\n",
       "  <thead>\n",
       "    <tr style=\"text-align: right;\">\n",
       "      <th></th>\n",
       "      <th>Actual Value</th>\n",
       "      <th>Predicted Value</th>\n",
       "      <th>Difference</th>\n",
       "    </tr>\n",
       "  </thead>\n",
       "  <tbody>\n",
       "    <tr>\n",
       "      <th>28</th>\n",
       "      <td>103282.38</td>\n",
       "      <td>103012.757141</td>\n",
       "      <td>269.622859</td>\n",
       "    </tr>\n",
       "    <tr>\n",
       "      <th>11</th>\n",
       "      <td>144259.40</td>\n",
       "      <td>132590.267587</td>\n",
       "      <td>11669.132413</td>\n",
       "    </tr>\n",
       "    <tr>\n",
       "      <th>10</th>\n",
       "      <td>146121.95</td>\n",
       "      <td>132458.485208</td>\n",
       "      <td>13663.464792</td>\n",
       "    </tr>\n",
       "    <tr>\n",
       "      <th>41</th>\n",
       "      <td>77798.83</td>\n",
       "      <td>71986.400650</td>\n",
       "      <td>5812.429350</td>\n",
       "    </tr>\n",
       "    <tr>\n",
       "      <th>2</th>\n",
       "      <td>191050.39</td>\n",
       "      <td>178545.366196</td>\n",
       "      <td>12505.023804</td>\n",
       "    </tr>\n",
       "    <tr>\n",
       "      <th>27</th>\n",
       "      <td>105008.31</td>\n",
       "      <td>116145.773357</td>\n",
       "      <td>-11137.463357</td>\n",
       "    </tr>\n",
       "    <tr>\n",
       "      <th>38</th>\n",
       "      <td>81229.06</td>\n",
       "      <td>67853.841987</td>\n",
       "      <td>13375.218013</td>\n",
       "    </tr>\n",
       "    <tr>\n",
       "      <th>31</th>\n",
       "      <td>97483.56</td>\n",
       "      <td>98787.436354</td>\n",
       "      <td>-1303.876354</td>\n",
       "    </tr>\n",
       "    <tr>\n",
       "      <th>22</th>\n",
       "      <td>110352.25</td>\n",
       "      <td>113968.483774</td>\n",
       "      <td>-3616.233774</td>\n",
       "    </tr>\n",
       "    <tr>\n",
       "      <th>4</th>\n",
       "      <td>166187.94</td>\n",
       "      <td>167932.324602</td>\n",
       "      <td>-1744.384602</td>\n",
       "    </tr>\n",
       "  </tbody>\n",
       "</table>\n",
       "</div>"
      ],
      "text/plain": [
       "    Actual Value  Predicted Value    Difference\n",
       "28     103282.38    103012.757141    269.622859\n",
       "11     144259.40    132590.267587  11669.132413\n",
       "10     146121.95    132458.485208  13663.464792\n",
       "41      77798.83     71986.400650   5812.429350\n",
       "2      191050.39    178545.366196  12505.023804\n",
       "27     105008.31    116145.773357 -11137.463357\n",
       "38      81229.06     67853.841987  13375.218013\n",
       "31      97483.56     98787.436354  -1303.876354\n",
       "22     110352.25    113968.483774  -3616.233774\n",
       "4      166187.94    167932.324602  -1744.384602"
      ]
     },
     "execution_count": 24,
     "metadata": {},
     "output_type": "execute_result"
    }
   ],
   "source": [
    "pred_df = pd.DataFrame({'Actual Value':y_test,'Predicted Value':model_y_pred,'Difference':y_test-model_y_pred})\n",
    "pred_df"
   ]
  }
 ],
 "metadata": {
  "kernelspec": {
   "display_name": "Python 3 (ipykernel)",
   "language": "python",
   "name": "python3"
  },
  "language_info": {
   "codemirror_mode": {
    "name": "ipython",
    "version": 3
   },
   "file_extension": ".py",
   "mimetype": "text/x-python",
   "name": "python",
   "nbconvert_exporter": "python",
   "pygments_lexer": "ipython3",
   "version": "3.9.7"
  }
 },
 "nbformat": 4,
 "nbformat_minor": 5
}
