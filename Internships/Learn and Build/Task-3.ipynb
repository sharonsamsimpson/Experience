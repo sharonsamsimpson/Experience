{
 "cells": [
  {
   "cell_type": "markdown",
   "metadata": {},
   "source": [
    "# Learn and Build Internship -> Task-3"
   ]
  },
  {
   "cell_type": "markdown",
   "metadata": {},
   "source": [
    "__`Name : SHARON SAM S`__"
   ]
  },
  {
   "cell_type": "markdown",
   "metadata": {},
   "source": [
    "__Agenda:__\n",
    "\n",
    "* __`Regression -> Chennai House Price:`__\n",
    "    \n",
    "    * Import necessary libraries and dataset\n",
    "\n",
    "    * Explore the data by printing the properties of the dataset\n",
    "    \n",
    "    * Handling Missing values\n",
    "    \n",
    "    * Handling categorical features\n",
    "\n",
    "    * Extraction of input and output features from dataset\n",
    "\n",
    "    * Split the dataset into train and test data with 20% as test data\n",
    "\n",
    "    * Normalizations - Standard Scaler and MinMax Scaler\n",
    "\n",
    "    * Models -  Linear, Ridge, Lasso and KNeighbors Regressor models\n",
    "\n",
    "    * Model Evaluation metrics - r2 score and root mean squared error\n",
    "\n",
    "    * Best Model Selection and Evaluation\n",
    "\n",
    "    * Visualization of Best Regression Model\n",
    "    \n",
    "    * Predicted values\n",
    "    \n",
    "* __`Classification -> Animal Class Type:`__\n",
    "    \n",
    "    * Import necessary libraries and dataset\n",
    "\n",
    "    * Explore the data by printing the properties of the dataset\n",
    "    \n",
    "    * Extraction of input and output features from dataset\n",
    "\n",
    "    * Split the dataset into train and test data with 33% as test data\n",
    "\n",
    "    * Normalizations - Standard Scaler and MinMax Scaler\n",
    "\n",
    "    * Models -  Logistic Regression Classifier, Decision Tree Classifier and Random Forest Classifier models\n",
    "\n",
    "    * Model Evaluation metrics - accuracy\n",
    "\n",
    "    * Best Model Selection and Evaluation\n",
    "\n",
    "    * Visualization of Best Claasifier Model\n",
    "    \n",
    "* End Notes"
   ]
  },
  {
   "cell_type": "markdown",
   "metadata": {},
   "source": [
    "# Regression -> Chennai House Price"
   ]
  },
  {
   "cell_type": "markdown",
   "metadata": {},
   "source": [
    "## (Comparison of Linear, Ridge, Lasso and KNeighbors Regressor models)"
   ]
  },
  {
   "cell_type": "markdown",
   "metadata": {},
   "source": [
    "__`Dataset link:`__  https://www.kaggle.com/datasets/amaanafif/chennai-house-price"
   ]
  },
  {
   "cell_type": "markdown",
   "metadata": {},
   "source": [
    "### Import necessary libraries and modules"
   ]
  },
  {
   "cell_type": "code",
   "execution_count": 1,
   "metadata": {},
   "outputs": [],
   "source": [
    "import warnings\n",
    "warnings.filterwarnings(\"ignore\")\n",
    "\n",
    "import pandas as pd\n",
    "import numpy as np\n",
    "\n",
    "import matplotlib.pyplot as plt\n",
    "import seaborn as sns\n",
    "\n",
    "from math import sqrt\n",
    "\n",
    "from time import process_time\n",
    "\n",
    "from sklearn.model_selection import train_test_split\n",
    "\n",
    "from sklearn.pipeline import Pipeline\n",
    "\n",
    "from sklearn.preprocessing import StandardScaler, MinMaxScaler\n",
    "\n",
    "from sklearn.linear_model import LinearRegression, Ridge, Lasso\n",
    "from sklearn.neighbors import KNeighborsRegressor\n",
    "\n",
    "from sklearn.metrics import *"
   ]
  },
  {
   "cell_type": "markdown",
   "metadata": {},
   "source": [
    "### Import dataset"
   ]
  },
  {
   "cell_type": "code",
   "execution_count": 2,
   "metadata": {},
   "outputs": [],
   "source": [
    "df = pd.read_csv(\"clean_data.csv\")"
   ]
  },
  {
   "cell_type": "markdown",
   "metadata": {},
   "source": [
    "### Properties of the dataset"
   ]
  },
  {
   "cell_type": "code",
   "execution_count": 3,
   "metadata": {},
   "outputs": [
    {
     "data": {
      "text/html": [
       "<div>\n",
       "<style scoped>\n",
       "    .dataframe tbody tr th:only-of-type {\n",
       "        vertical-align: middle;\n",
       "    }\n",
       "\n",
       "    .dataframe tbody tr th {\n",
       "        vertical-align: top;\n",
       "    }\n",
       "\n",
       "    .dataframe thead th {\n",
       "        text-align: right;\n",
       "    }\n",
       "</style>\n",
       "<table border=\"1\" class=\"dataframe\">\n",
       "  <thead>\n",
       "    <tr style=\"text-align: right;\">\n",
       "      <th></th>\n",
       "      <th>price</th>\n",
       "      <th>area</th>\n",
       "      <th>status</th>\n",
       "      <th>bhk</th>\n",
       "      <th>bathroom</th>\n",
       "      <th>age</th>\n",
       "      <th>location</th>\n",
       "      <th>builder</th>\n",
       "    </tr>\n",
       "  </thead>\n",
       "  <tbody>\n",
       "    <tr>\n",
       "      <th>0</th>\n",
       "      <td>37.49</td>\n",
       "      <td>872</td>\n",
       "      <td>Ready to move</td>\n",
       "      <td>2</td>\n",
       "      <td>NaN</td>\n",
       "      <td>1.0</td>\n",
       "      <td>Sembakkam</td>\n",
       "      <td>MP Developers</td>\n",
       "    </tr>\n",
       "    <tr>\n",
       "      <th>1</th>\n",
       "      <td>93.54</td>\n",
       "      <td>1346</td>\n",
       "      <td>Under Construction</td>\n",
       "      <td>3</td>\n",
       "      <td>2.0</td>\n",
       "      <td>NaN</td>\n",
       "      <td>Selaiyur</td>\n",
       "      <td>DAC Promoters</td>\n",
       "    </tr>\n",
       "    <tr>\n",
       "      <th>2</th>\n",
       "      <td>151.00</td>\n",
       "      <td>2225</td>\n",
       "      <td>Under Construction</td>\n",
       "      <td>3</td>\n",
       "      <td>NaN</td>\n",
       "      <td>0.0</td>\n",
       "      <td>Mogappair</td>\n",
       "      <td>Casagrand Builder Private Limited</td>\n",
       "    </tr>\n",
       "    <tr>\n",
       "      <th>3</th>\n",
       "      <td>49.00</td>\n",
       "      <td>1028</td>\n",
       "      <td>Ready to move</td>\n",
       "      <td>2</td>\n",
       "      <td>2.0</td>\n",
       "      <td>3.0</td>\n",
       "      <td>Ambattur</td>\n",
       "      <td>Dugar Housing Builders</td>\n",
       "    </tr>\n",
       "    <tr>\n",
       "      <th>4</th>\n",
       "      <td>42.28</td>\n",
       "      <td>588</td>\n",
       "      <td>Under Construction</td>\n",
       "      <td>2</td>\n",
       "      <td>1.0</td>\n",
       "      <td>0.0</td>\n",
       "      <td>Pallavaram</td>\n",
       "      <td>Radiance Realty Developers India Ltd</td>\n",
       "    </tr>\n",
       "  </tbody>\n",
       "</table>\n",
       "</div>"
      ],
      "text/plain": [
       "    price  area              status  bhk  bathroom  age    location  \\\n",
       "0   37.49   872       Ready to move    2       NaN  1.0   Sembakkam   \n",
       "1   93.54  1346  Under Construction    3       2.0  NaN    Selaiyur   \n",
       "2  151.00  2225  Under Construction    3       NaN  0.0   Mogappair   \n",
       "3   49.00  1028       Ready to move    2       2.0  3.0    Ambattur   \n",
       "4   42.28   588  Under Construction    2       1.0  0.0  Pallavaram   \n",
       "\n",
       "                                builder  \n",
       "0                         MP Developers  \n",
       "1                         DAC Promoters  \n",
       "2     Casagrand Builder Private Limited  \n",
       "3                Dugar Housing Builders  \n",
       "4  Radiance Realty Developers India Ltd  "
      ]
     },
     "execution_count": 3,
     "metadata": {},
     "output_type": "execute_result"
    }
   ],
   "source": [
    "df.head()"
   ]
  },
  {
   "cell_type": "code",
   "execution_count": 4,
   "metadata": {},
   "outputs": [
    {
     "name": "stdout",
     "output_type": "stream",
     "text": [
      "There are 2620 samples and 8 features with totally 20960 elements in the dataset\n"
     ]
    }
   ],
   "source": [
    "print(\"There are\", df.shape[0], \"samples and\", df.shape[1], \"features with totally\", df.size, \"elements in the dataset\")"
   ]
  },
  {
   "cell_type": "code",
   "execution_count": 5,
   "metadata": {},
   "outputs": [
    {
     "name": "stdout",
     "output_type": "stream",
     "text": [
      "<class 'pandas.core.frame.DataFrame'>\n",
      "RangeIndex: 2620 entries, 0 to 2619\n",
      "Data columns (total 8 columns):\n",
      " #   Column    Non-Null Count  Dtype  \n",
      "---  ------    --------------  -----  \n",
      " 0   price     2620 non-null   float64\n",
      " 1   area      2620 non-null   int64  \n",
      " 2   status    2620 non-null   object \n",
      " 3   bhk       2620 non-null   int64  \n",
      " 4   bathroom  1403 non-null   float64\n",
      " 5   age       1729 non-null   float64\n",
      " 6   location  2620 non-null   object \n",
      " 7   builder   2620 non-null   object \n",
      "dtypes: float64(3), int64(2), object(3)\n",
      "memory usage: 163.9+ KB\n"
     ]
    }
   ],
   "source": [
    "df.info()"
   ]
  },
  {
   "cell_type": "markdown",
   "metadata": {},
   "source": [
    "### Handling Missing values"
   ]
  },
  {
   "cell_type": "code",
   "execution_count": 6,
   "metadata": {},
   "outputs": [
    {
     "data": {
      "text/plain": [
       "price          0\n",
       "area           0\n",
       "status         0\n",
       "bhk            0\n",
       "bathroom    1217\n",
       "age          891\n",
       "location       0\n",
       "builder        0\n",
       "dtype: int64"
      ]
     },
     "execution_count": 6,
     "metadata": {},
     "output_type": "execute_result"
    }
   ],
   "source": [
    "df.isnull().sum()"
   ]
  },
  {
   "cell_type": "code",
   "execution_count": 7,
   "metadata": {},
   "outputs": [],
   "source": [
    "df['bathroom'].replace(np.nan, 0, inplace=True)\n",
    "\n",
    "df['age'].replace(np.nan, 0, inplace=True)"
   ]
  },
  {
   "cell_type": "code",
   "execution_count": 8,
   "metadata": {},
   "outputs": [
    {
     "data": {
      "text/plain": [
       "0"
      ]
     },
     "execution_count": 8,
     "metadata": {},
     "output_type": "execute_result"
    }
   ],
   "source": [
    "df.isnull().sum().sum()"
   ]
  },
  {
   "cell_type": "markdown",
   "metadata": {},
   "source": [
    "### Handling Catergorical features"
   ]
  },
  {
   "cell_type": "code",
   "execution_count": 9,
   "metadata": {},
   "outputs": [
    {
     "data": {
      "text/plain": [
       "Ready to move         1487\n",
       "Under Construction    1133\n",
       "Name: status, dtype: int64"
      ]
     },
     "execution_count": 9,
     "metadata": {},
     "output_type": "execute_result"
    }
   ],
   "source": [
    "df.status.value_counts()"
   ]
  },
  {
   "cell_type": "code",
   "execution_count": 10,
   "metadata": {},
   "outputs": [],
   "source": [
    "df['status'].replace({'Ready to move':1, 'Under Construction':0}, inplace=True)"
   ]
  },
  {
   "cell_type": "code",
   "execution_count": 11,
   "metadata": {},
   "outputs": [
    {
     "data": {
      "text/plain": [
       "array(['Sembakkam', 'Selaiyur', 'Mogappair', 'Ambattur', 'Pallavaram',\n",
       "       'Virugambakkam', 'Thirumazhisai', 'Moolakadai', 'Ottiyambakkam',\n",
       "       'Perungalathur', 'Gerugambakkam', 'Anna Nagar', 'Gopalapuram',\n",
       "       'Pammal', 'Porur', 'Navallur', 'Sholinganallur', 'Vanagaram',\n",
       "       'T Nagar', 'Guindy', 'Madipakkam', 'Perumbakkam', 'Velachery',\n",
       "       'Medavakkam', 'Gowrivakkam', 'Chromepet', 'Thalambur', 'Thandalam',\n",
       "       'Ayanambakkam', 'Kanathur Reddikuppam', 'Adyar', 'Kolapakkam',\n",
       "       'Thaiyur', 'Thoraipakkam OMR', 'Poonamallee', 'Padur',\n",
       "       'East Tambaram', 'Tiruvottiyur', 'Iyappanthangal', 'Padappai',\n",
       "       'Mugalivakkam', 'Kelambakkam', 'Thirumullaivoyal', 'Madhavaram',\n",
       "       'Kundrathur', 'Vengaivasal', 'Siruseri', 'Manapakkam',\n",
       "       'Karapakkam', 'Sithalapakkam', 'Madambakkam', 'Perungudi',\n",
       "       'Vadapalani', 'Alwarpet', 'Thiruvidandhai', 'Kotturpuram',\n",
       "       'Velappanchavadi', 'Kilpauk', 'Besant Nagar', 'Vellakkal', 'Avadi',\n",
       "       'Kolathur', 'Thiruvanmiyur', 'Periyar Nagar', 'Nanmangalam',\n",
       "       'Anakaputhur', 'Urapakkam', 'Kovur', 'Nungambakkam', 'Maduravoyal',\n",
       "       'Guduvancheri', 'Koyambedu', 'Korattur', 'Iyyappanthangal',\n",
       "       'Madhavaram Milk Colony', 'Jeth Nagar', 'Mangadu',\n",
       "       'Singaperumal Koil', 'Madhanandapuram', 'Kandigai', 'Veppampattu',\n",
       "       'Saidapet', 'Oragadam Village Ambattur Talu', 'Pattabiram',\n",
       "       'Mahabalipuram', 'Ayapakkam', 'Chitlapakkam', 'Puzhal',\n",
       "       'Washermanpet', 'Thiruverkadu', 'Pozhichalur', 'Mannur',\n",
       "       'West Mambalam', 'Kattupakkam', 'Maraimalai Nagar', 'Chetpet',\n",
       "       'Ramapuram', 'Alandur', 'Red Hills', 'K K Nagar', 'Purasawalkam',\n",
       "       'Ramavaram', 'Shenoy Nagar', 'Saligramam', 'Royapettah',\n",
       "       'Valasaravakkam', 'Semmancheri', 'Ottiyabakkam', 'Nanganallur',\n",
       "       'Pallikaranai', 'Muttukadu', 'Tharapakkam', 'Egmore',\n",
       "       'Anna Nagar East', 'Ayanavaram', 'Raja Annamalai Puram',\n",
       "       'Aminjikarai', 'Purasaiwakkam', 'Periyapanicheri',\n",
       "       'Kattankulathur', 'Kotivakkam', 'Kumananchavadi', 'Perumalpattu',\n",
       "       'Kodambakkam', 'Sevvapet', 'tambaram west', 'Kovilambakkam',\n",
       "       'Rajakilpakkam', 'Villivakkam', 'Chengalpattu', 'Cholambedu',\n",
       "       'Nesapakkam', 'Padapai', 'Neelankarai', 'Vadanemmeli',\n",
       "       'Kumaran Nagar', 'Ashok Nagar', 'Adambakam', 'Perambur',\n",
       "       'Keelkattalai', 'Kodungaiyur West', 'Pudupakkam', 'Padi',\n",
       "       'Mogappair East', 'Elandanur', 'Pazavanthangal', 'Thiruporur',\n",
       "       'Moolacheri', 'Kolapakkam Vandalur', 'Veppampatttu', 'Manali',\n",
       "       'Jamalia', 'Kottivakkam', 'Gokulapuram', 'Iyyapa Nagar',\n",
       "       'West Tambaram', 'Old Pallavaram', 'Sriperumbudur',\n",
       "       'Ponniammanmedu', 'Kovalam', 'CIT Nagar', 'Agaramthen',\n",
       "       'Vengambakkam', 'Mambakkam', 'Nallambakkam', 'Peerakankaranai',\n",
       "       'Rathinamangalam', 'Nandambakkam', 'Jafferkhanpet', 'Arumbakkam',\n",
       "       'Kuthambakkam', 'Thirumalpur', 'Mahindra World City',\n",
       "       'Oragadam Industrial Corridor', 'Ragavendra Colony',\n",
       "       'Ambattur INDUSTRIAL ESTATE', 'Mannivakkam', 'Kil Ayanambakkam'],\n",
       "      dtype=object)"
      ]
     },
     "execution_count": 11,
     "metadata": {},
     "output_type": "execute_result"
    }
   ],
   "source": [
    "df.location.unique()"
   ]
  },
  {
   "cell_type": "code",
   "execution_count": 12,
   "metadata": {},
   "outputs": [],
   "source": [
    "df_location_frequency = df['location'].value_counts().to_dict()\n",
    "\n",
    "df['location'] = df['location'].map(df_location_frequency)"
   ]
  },
  {
   "cell_type": "code",
   "execution_count": 13,
   "metadata": {},
   "outputs": [
    {
     "data": {
      "text/plain": [
       "array(['MP Developers', 'DAC Promoters',\n",
       "       'Casagrand Builder Private Limited', 'Dugar Housing Builders',\n",
       "       'Radiance Realty Developers India Ltd', 'Traventure Homes Pvt Ltd',\n",
       "       'Urbanrise', 'Navin Housing Properties P LTD',\n",
       "       'Jones foundation private limited', 'Isha Homes',\n",
       "       'Kochar Homes Pvt Ltd', 'Pushkar Properties Pvt Ltd',\n",
       "       'Asset Tree Homes', 'Urban Tree Infrastructures', 'Olympia Group',\n",
       "       'Vijay Raja Homes Private Limited', 'Kamalam Builder Pvt Ltd',\n",
       "       'Appaswamy Real Estate', 'VNR Homes', 'PS Srijan Developers',\n",
       "       'Lifestyle Housing', 'Puravankara Limited', 'Jones Foundations',\n",
       "       'Plaza Group', 'Urbando Housing LLP', 'EK Realtors',\n",
       "       'The Nest Builder', 'Doshi Housing', 'Grandstyle constructions',\n",
       "       'vinoth builders', 'GTK Foundations', 'Baashyaam Group', 'chris',\n",
       "       'Krishna Constructions', 'AKS Housing Dedvelopment Pvt Ltd',\n",
       "       'Mayances Construction and Engineering Services',\n",
       "       'Ramaniyam Real Estate Builders', 'India Builders Limited', 'Ram',\n",
       "       'Shatapatri Estates Pvt Ltd', 'Shri Raman Developers',\n",
       "       'Sri Hari Developers', 'Radiance Realty Developers',\n",
       "       'Pacifica Companies', 'BSCPL Infrastructure Ltd', 'Khurinji Homes',\n",
       "       'Saradeuz Realty Constructions', 'VGK Builders Pvt Ltd',\n",
       "       'Amarprakash Developers Pvt Ltd', 'Hansa Estates',\n",
       "       'Prince Foundations Ltd', 'Budget Housing And Properties',\n",
       "       'SP Homes Pvt Ltd', 'Bharathi Construction',\n",
       "       'Karuppaswamy Builders', 'Merlin Group', 'Advaita Homes',\n",
       "       'Swamaan Developers', 'Poojaa Foundation',\n",
       "       'Prestige Estates Projects Ltd', 'Global Homes', 'seller',\n",
       "       'Pon Mariappan', 'HM Homes', 'INTERFACE PROPERTIES',\n",
       "       'R Venkatesan', 'viswaraj', 'Shiva', 'S Suresh Kumar',\n",
       "       'MEHTA REAL ESTATE CHENNAI LLP', 'Balamurugan', 'Alliance Group',\n",
       "       'Royal Square', 'Proparena', 'Propsource Realty Private Limited',\n",
       "       'Sandhya', 'Murali', 'Tellus Foundation', 'Jayakanthan',\n",
       "       'Individual Agent', 'Naveen', 'Shanmugam Property',\n",
       "       'Value reality', 'Swaminathan', 'smartassetsindia',\n",
       "       'Sri Vinayaga Real Estate', 'Nagaraj', 'Karthick', 'Prasanna',\n",
       "       'Vinay Asrani', 'Pragyansh', '24K Realtors', 'Kaushik associates',\n",
       "       'BricksBurg', 'Dinesh', 'AKS REALTY SERVICES', 'Kkk Landmark',\n",
       "       'SS Square Property Developers', 'Prabha Homes', 'JA Associates',\n",
       "       'Bala', 'Sarashwathi Construction', 'Selvakumar',\n",
       "       'Right Angle Properties', 'Saravan gk', 'Evrostos Properties',\n",
       "       'Balasubramani', 'Vishnu Foundation Ltd',\n",
       "       'Shree sakthivel realestate', 'Yadhav constructions real estates',\n",
       "       'SS PROPERTIES', 'Prop Mart Technologies', 'Info Rich',\n",
       "       'JD Properties', 'Mohan', 'HomeFirst', 'Elite nisha',\n",
       "       'THAMINA HOMES', 'MC Foundation', 'ARB HOMES',\n",
       "       'South Zone Realty Consulting Pvt Ltd', 'Luxclusive Homes',\n",
       "       'Vishal D', 'mohammed', 'Dee Star Properties',\n",
       "       'Chennai Gated Community', 'Balaji', 'MrPincode', 'GJ ESTATES',\n",
       "       'Venkatesh', 'DJ Properties', 'Dhivagaran', 'REALTY INDIA',\n",
       "       'MAXWORTH PROPERTIES', 'Velan Housing Properties'], dtype=object)"
      ]
     },
     "execution_count": 13,
     "metadata": {},
     "output_type": "execute_result"
    }
   ],
   "source": [
    "df.builder.unique()"
   ]
  },
  {
   "cell_type": "code",
   "execution_count": 14,
   "metadata": {},
   "outputs": [],
   "source": [
    "df_builder_frequency = df['builder'].value_counts().to_dict()\n",
    "\n",
    "df['builder'] = df['builder'].map(df_builder_frequency)"
   ]
  },
  {
   "cell_type": "code",
   "execution_count": 15,
   "metadata": {},
   "outputs": [
    {
     "name": "stdout",
     "output_type": "stream",
     "text": [
      "<class 'pandas.core.frame.DataFrame'>\n",
      "RangeIndex: 2620 entries, 0 to 2619\n",
      "Data columns (total 8 columns):\n",
      " #   Column    Non-Null Count  Dtype  \n",
      "---  ------    --------------  -----  \n",
      " 0   price     2620 non-null   float64\n",
      " 1   area      2620 non-null   int64  \n",
      " 2   status    2620 non-null   int64  \n",
      " 3   bhk       2620 non-null   int64  \n",
      " 4   bathroom  2620 non-null   float64\n",
      " 5   age       2620 non-null   float64\n",
      " 6   location  2620 non-null   int64  \n",
      " 7   builder   2620 non-null   int64  \n",
      "dtypes: float64(3), int64(5)\n",
      "memory usage: 163.9 KB\n"
     ]
    }
   ],
   "source": [
    "df.info()"
   ]
  },
  {
   "cell_type": "markdown",
   "metadata": {},
   "source": [
    "### Extraction of input and output features from dataset"
   ]
  },
  {
   "cell_type": "code",
   "execution_count": 16,
   "metadata": {},
   "outputs": [],
   "source": [
    "X = df.drop(['price'], axis=1)\n",
    "\n",
    "y = df['price']"
   ]
  },
  {
   "cell_type": "markdown",
   "metadata": {},
   "source": [
    "### Split the dataset into train and test data"
   ]
  },
  {
   "cell_type": "code",
   "execution_count": 17,
   "metadata": {},
   "outputs": [
    {
     "name": "stdout",
     "output_type": "stream",
     "text": [
      "Shape of training set:\n",
      "X_train (2096, 7)\n",
      "y_train (2096,)\n",
      "\n",
      "\n",
      "Shape of testing set:\n",
      "X_test (524, 7)\n",
      "y_test (524,)\n"
     ]
    }
   ],
   "source": [
    "X_train, X_test, y_train, y_test = train_test_split(X, y, test_size = 0.2, random_state=0)\n",
    "\n",
    "print(\"Shape of training set:\")\n",
    "print(\"X_train\", X_train.shape)\n",
    "print(\"y_train\", y_train.shape)\n",
    "print(\"\\n\")\n",
    "print(\"Shape of testing set:\")\n",
    "print(\"X_test\", X_test.shape)\n",
    "print(\"y_test\", y_test.shape)"
   ]
  },
  {
   "cell_type": "markdown",
   "metadata": {},
   "source": [
    "### Model Building and Evaluation"
   ]
  },
  {
   "cell_type": "code",
   "execution_count": 18,
   "metadata": {},
   "outputs": [],
   "source": [
    "ss_lr = [('ss', StandardScaler()), ('lr', LinearRegression())]\n",
    "mm_lr = [('mm', MinMaxScaler()), ('lr', LinearRegression())]\n",
    "\n",
    "ss_rr = [('ss', StandardScaler()), ('rr', Ridge())]\n",
    "mm_rr = [('mm', MinMaxScaler()), ('rr', Ridge())]\n",
    "\n",
    "ss_ls = [('ss', StandardScaler()), ('ls', Lasso())]\n",
    "mm_ls = [('mm', MinMaxScaler()), ('ls', Lasso())]\n",
    "\n",
    "ss_kn = [('ss', StandardScaler()), ('kn', KNeighborsRegressor())]\n",
    "mm_kn = [('mm', MinMaxScaler()), ('kn', KNeighborsRegressor())]\n",
    "\n",
    "models = { \n",
    "    \"Linear Regression\": LinearRegression(),\n",
    "    \"Linear Regression with StandardScaler\": Pipeline(ss_lr),\n",
    "    \"Linear Regression with MinMaxScaler\": Pipeline(mm_lr), \n",
    "    \"Ridge Regression\": Ridge(),\n",
    "    \"Ridge Regression with StandardScaler\": Pipeline(ss_rr),\n",
    "    \"Ridge Regression with MinMaxScaler\": Pipeline(mm_rr),  \n",
    "    \"Lasso Regression\": Lasso(),\n",
    "    \"Lasso Regression with StandardScaler\": Pipeline(ss_ls),\n",
    "    \"Lasso Regression with MinMaxScaler\": Pipeline(mm_ls),\n",
    "    \"KNeighbors Regressor\": KNeighborsRegressor(),\n",
    "    \"KNeighbors Regressor with StandardScaler\": Pipeline(ss_kn),\n",
    "    \"KNeighbors Regressor with MinMaxScaler\": Pipeline(mm_kn)\n",
    "}"
   ]
  },
  {
   "cell_type": "code",
   "execution_count": 19,
   "metadata": {},
   "outputs": [],
   "source": [
    "no_models = len(models.keys())\n",
    "\n",
    "def build_regressor(X_train, X_test, y_train, y_test, verbose = True):\n",
    "    \n",
    "    df_results = pd.DataFrame(data=np.zeros(shape=(no_models, 4)), columns = ['Models','r2 Score','RMSE','Training time'])\n",
    "    \n",
    "    count = 0\n",
    "    for key, model in models.items():\n",
    "        \n",
    "        t_start = process_time()  \n",
    "        model.fit(X_train, y_train)\n",
    "        \n",
    "        t_stop = process_time() \n",
    "        t_elapsed = t_stop - t_start\n",
    "        \n",
    "        y_pred = model.predict(X_test)\n",
    "        \n",
    "        df_results.loc[count,'Models'] = key\n",
    "        df_results.loc[count,'r2 Score'] = r2_score(y_test, y_pred)\n",
    "        df_results.loc[count,'RMSE'] = sqrt(mean_squared_error(y_test, y_pred))\n",
    "        df_results.loc[count,'Training time'] = t_elapsed\n",
    "        \n",
    "        count+=1\n",
    "\n",
    "    return df_results"
   ]
  },
  {
   "cell_type": "code",
   "execution_count": 20,
   "metadata": {},
   "outputs": [
    {
     "data": {
      "text/html": [
       "<div>\n",
       "<style scoped>\n",
       "    .dataframe tbody tr th:only-of-type {\n",
       "        vertical-align: middle;\n",
       "    }\n",
       "\n",
       "    .dataframe tbody tr th {\n",
       "        vertical-align: top;\n",
       "    }\n",
       "\n",
       "    .dataframe thead th {\n",
       "        text-align: right;\n",
       "    }\n",
       "</style>\n",
       "<table border=\"1\" class=\"dataframe\">\n",
       "  <thead>\n",
       "    <tr style=\"text-align: right;\">\n",
       "      <th></th>\n",
       "      <th>Models</th>\n",
       "      <th>r2 Score</th>\n",
       "      <th>RMSE</th>\n",
       "      <th>Training time</th>\n",
       "    </tr>\n",
       "  </thead>\n",
       "  <tbody>\n",
       "    <tr>\n",
       "      <th>8</th>\n",
       "      <td>Lasso Regression with MinMaxScaler</td>\n",
       "      <td>0.673687</td>\n",
       "      <td>56.381385</td>\n",
       "      <td>0.00000</td>\n",
       "    </tr>\n",
       "    <tr>\n",
       "      <th>5</th>\n",
       "      <td>Ridge Regression with MinMaxScaler</td>\n",
       "      <td>0.654780</td>\n",
       "      <td>57.991803</td>\n",
       "      <td>0.00000</td>\n",
       "    </tr>\n",
       "    <tr>\n",
       "      <th>7</th>\n",
       "      <td>Lasso Regression with StandardScaler</td>\n",
       "      <td>0.637313</td>\n",
       "      <td>59.440829</td>\n",
       "      <td>0.00000</td>\n",
       "    </tr>\n",
       "    <tr>\n",
       "      <th>6</th>\n",
       "      <td>Lasso Regression</td>\n",
       "      <td>0.632733</td>\n",
       "      <td>59.814933</td>\n",
       "      <td>0.00000</td>\n",
       "    </tr>\n",
       "    <tr>\n",
       "      <th>4</th>\n",
       "      <td>Ridge Regression with StandardScaler</td>\n",
       "      <td>0.631156</td>\n",
       "      <td>59.943242</td>\n",
       "      <td>0.03125</td>\n",
       "    </tr>\n",
       "    <tr>\n",
       "      <th>3</th>\n",
       "      <td>Ridge Regression</td>\n",
       "      <td>0.630812</td>\n",
       "      <td>59.971169</td>\n",
       "      <td>0.00000</td>\n",
       "    </tr>\n",
       "    <tr>\n",
       "      <th>0</th>\n",
       "      <td>Linear Regression</td>\n",
       "      <td>0.630799</td>\n",
       "      <td>59.972232</td>\n",
       "      <td>0.00000</td>\n",
       "    </tr>\n",
       "    <tr>\n",
       "      <th>2</th>\n",
       "      <td>Linear Regression with MinMaxScaler</td>\n",
       "      <td>0.630799</td>\n",
       "      <td>59.972232</td>\n",
       "      <td>0.00000</td>\n",
       "    </tr>\n",
       "    <tr>\n",
       "      <th>1</th>\n",
       "      <td>Linear Regression with StandardScaler</td>\n",
       "      <td>0.630799</td>\n",
       "      <td>59.972232</td>\n",
       "      <td>0.00000</td>\n",
       "    </tr>\n",
       "    <tr>\n",
       "      <th>9</th>\n",
       "      <td>KNeighbors Regressor</td>\n",
       "      <td>0.586436</td>\n",
       "      <td>63.473191</td>\n",
       "      <td>0.00000</td>\n",
       "    </tr>\n",
       "    <tr>\n",
       "      <th>10</th>\n",
       "      <td>KNeighbors Regressor with StandardScaler</td>\n",
       "      <td>0.548962</td>\n",
       "      <td>66.286530</td>\n",
       "      <td>0.00000</td>\n",
       "    </tr>\n",
       "    <tr>\n",
       "      <th>11</th>\n",
       "      <td>KNeighbors Regressor with MinMaxScaler</td>\n",
       "      <td>0.501739</td>\n",
       "      <td>69.670210</td>\n",
       "      <td>0.03125</td>\n",
       "    </tr>\n",
       "  </tbody>\n",
       "</table>\n",
       "</div>"
      ],
      "text/plain": [
       "                                      Models  r2 Score       RMSE  \\\n",
       "8         Lasso Regression with MinMaxScaler  0.673687  56.381385   \n",
       "5         Ridge Regression with MinMaxScaler  0.654780  57.991803   \n",
       "7       Lasso Regression with StandardScaler  0.637313  59.440829   \n",
       "6                           Lasso Regression  0.632733  59.814933   \n",
       "4       Ridge Regression with StandardScaler  0.631156  59.943242   \n",
       "3                           Ridge Regression  0.630812  59.971169   \n",
       "0                          Linear Regression  0.630799  59.972232   \n",
       "2        Linear Regression with MinMaxScaler  0.630799  59.972232   \n",
       "1      Linear Regression with StandardScaler  0.630799  59.972232   \n",
       "9                       KNeighbors Regressor  0.586436  63.473191   \n",
       "10  KNeighbors Regressor with StandardScaler  0.548962  66.286530   \n",
       "11    KNeighbors Regressor with MinMaxScaler  0.501739  69.670210   \n",
       "\n",
       "    Training time  \n",
       "8         0.00000  \n",
       "5         0.00000  \n",
       "7         0.00000  \n",
       "6         0.00000  \n",
       "4         0.03125  \n",
       "3         0.00000  \n",
       "0         0.00000  \n",
       "2         0.00000  \n",
       "1         0.00000  \n",
       "9         0.00000  \n",
       "10        0.00000  \n",
       "11        0.03125  "
      ]
     },
     "execution_count": 20,
     "metadata": {},
     "output_type": "execute_result"
    }
   ],
   "source": [
    "df_results = build_regressor(X_train, X_test, y_train, y_test)\n",
    "df_results.sort_values(by='RMSE', ascending=True)"
   ]
  },
  {
   "cell_type": "markdown",
   "metadata": {},
   "source": [
    "### Best Model"
   ]
  },
  {
   "cell_type": "markdown",
   "metadata": {},
   "source": [
    "__Lasso Regression with MinMaxScaler with highest `r2 score = 0.673687` and with lowest `RMSE = 56.381385` is the best model__"
   ]
  },
  {
   "cell_type": "code",
   "execution_count": 21,
   "metadata": {},
   "outputs": [
    {
     "name": "stdout",
     "output_type": "stream",
     "text": [
      "Model Results:\n",
      "\n",
      "Accuracy of the best Model = 0.67368736308478\n",
      "Residual Error of the best Model = 56.38138545058853\n",
      "\n",
      "\n",
      "Values of Model Parameters:\n",
      "\n",
      "  Coefficient [814.28268102  -0.           0.           0.          -0.\n",
      " -20.89723663   0.        ]\n",
      "  Intercept -23.277023618428814\n"
     ]
    }
   ],
   "source": [
    "scaler = MinMaxScaler()\n",
    "\n",
    "scaled_X_train = scaler.fit_transform(X_train)\n",
    "\n",
    "scaled_X_test = scaler.transform(X_test)\n",
    "\n",
    "model = Lasso()\n",
    "\n",
    "model.fit(scaled_X_train, y_train)\n",
    "\n",
    "model_y_pred = model.predict(scaled_X_test)\n",
    "\n",
    "print(\"Model Results:\\n\")\n",
    "print(\"Accuracy of the best Model =\", r2_score(y_test, model_y_pred))\n",
    "print(\"Residual Error of the best Model =\", sqrt(mean_squared_error(y_test, model_y_pred)))\n",
    "print(\"\\n\")\n",
    "print(\"Values of Model Parameters:\\n\")\n",
    "print(\"  Coefficient\", model.coef_)\n",
    "print(\"  Intercept\", model.intercept_)"
   ]
  },
  {
   "cell_type": "markdown",
   "metadata": {},
   "source": [
    "### Visualization"
   ]
  },
  {
   "cell_type": "code",
   "execution_count": 22,
   "metadata": {},
   "outputs": [
    {
     "data": {
      "image/png": "[encoded data removed]",
      "text/plain": [
       "<Figure size 432x288 with 1 Axes>"
      ]
     },
     "metadata": {
      "needs_background": "light"
     },
     "output_type": "display_data"
    }
   ],
   "source": [
    "sns.regplot(x=y_test, y=model_y_pred, color='orange', marker='*')\n",
    "plt.title(\"Best Model\")\n",
    "plt.xlabel('Actual Values')\n",
    "plt.ylabel('Predicted Values')\n",
    "plt.show()"
   ]
  },
  {
   "cell_type": "markdown",
   "metadata": {},
   "source": [
    "### Predicted Values"
   ]
  },
  {
   "cell_type": "code",
   "execution_count": 23,
   "metadata": {},
   "outputs": [
    {
     "data": {
      "text/html": [
       "<div>\n",
       "<style scoped>\n",
       "    .dataframe tbody tr th:only-of-type {\n",
       "        vertical-align: middle;\n",
       "    }\n",
       "\n",
       "    .dataframe tbody tr th {\n",
       "        vertical-align: top;\n",
       "    }\n",
       "\n",
       "    .dataframe thead th {\n",
       "        text-align: right;\n",
       "    }\n",
       "</style>\n",
       "<table border=\"1\" class=\"dataframe\">\n",
       "  <thead>\n",
       "    <tr style=\"text-align: right;\">\n",
       "      <th></th>\n",
       "      <th>Actual Value</th>\n",
       "      <th>Predicted Value</th>\n",
       "      <th>Difference</th>\n",
       "    </tr>\n",
       "  </thead>\n",
       "  <tbody>\n",
       "    <tr>\n",
       "      <th>1716</th>\n",
       "      <td>39.00</td>\n",
       "      <td>33.271240</td>\n",
       "      <td>5.728760</td>\n",
       "    </tr>\n",
       "    <tr>\n",
       "      <th>2427</th>\n",
       "      <td>75.50</td>\n",
       "      <td>85.878282</td>\n",
       "      <td>-10.378282</td>\n",
       "    </tr>\n",
       "    <tr>\n",
       "      <th>1492</th>\n",
       "      <td>25.90</td>\n",
       "      <td>6.718407</td>\n",
       "      <td>19.181593</td>\n",
       "    </tr>\n",
       "    <tr>\n",
       "      <th>501</th>\n",
       "      <td>73.46</td>\n",
       "      <td>70.228787</td>\n",
       "      <td>3.231213</td>\n",
       "    </tr>\n",
       "    <tr>\n",
       "      <th>895</th>\n",
       "      <td>53.81</td>\n",
       "      <td>64.748475</td>\n",
       "      <td>-10.938475</td>\n",
       "    </tr>\n",
       "    <tr>\n",
       "      <th>...</th>\n",
       "      <td>...</td>\n",
       "      <td>...</td>\n",
       "      <td>...</td>\n",
       "    </tr>\n",
       "    <tr>\n",
       "      <th>1051</th>\n",
       "      <td>242.00</td>\n",
       "      <td>115.548232</td>\n",
       "      <td>126.451768</td>\n",
       "    </tr>\n",
       "    <tr>\n",
       "      <th>2555</th>\n",
       "      <td>345.00</td>\n",
       "      <td>303.851102</td>\n",
       "      <td>41.148898</td>\n",
       "    </tr>\n",
       "    <tr>\n",
       "      <th>1725</th>\n",
       "      <td>30.50</td>\n",
       "      <td>-2.048151</td>\n",
       "      <td>32.548151</td>\n",
       "    </tr>\n",
       "    <tr>\n",
       "      <th>1129</th>\n",
       "      <td>75.00</td>\n",
       "      <td>46.276802</td>\n",
       "      <td>28.723198</td>\n",
       "    </tr>\n",
       "    <tr>\n",
       "      <th>1656</th>\n",
       "      <td>64.32</td>\n",
       "      <td>60.554680</td>\n",
       "      <td>3.765320</td>\n",
       "    </tr>\n",
       "  </tbody>\n",
       "</table>\n",
       "<p>524 rows × 3 columns</p>\n",
       "</div>"
      ],
      "text/plain": [
       "      Actual Value  Predicted Value  Difference\n",
       "1716         39.00        33.271240    5.728760\n",
       "2427         75.50        85.878282  -10.378282\n",
       "1492         25.90         6.718407   19.181593\n",
       "501          73.46        70.228787    3.231213\n",
       "895          53.81        64.748475  -10.938475\n",
       "...            ...              ...         ...\n",
       "1051        242.00       115.548232  126.451768\n",
       "2555        345.00       303.851102   41.148898\n",
       "1725         30.50        -2.048151   32.548151\n",
       "1129         75.00        46.276802   28.723198\n",
       "1656         64.32        60.554680    3.765320\n",
       "\n",
       "[524 rows x 3 columns]"
      ]
     },
     "execution_count": 23,
     "metadata": {},
     "output_type": "execute_result"
    }
   ],
   "source": [
    "pred_df = pd.DataFrame({'Actual Value': y_test, 'Predicted Value': model_y_pred, 'Difference': y_test - model_y_pred})\n",
    "pred_df"
   ]
  },
  {
   "cell_type": "markdown",
   "metadata": {},
   "source": [
    "# Classification -> Animal Class Type"
   ]
  },
  {
   "cell_type": "markdown",
   "metadata": {},
   "source": [
    "## (Comparison of Logistic Regression , Decision Tree  and Random Forest Classifier models)"
   ]
  },
  {
   "cell_type": "markdown",
   "metadata": {},
   "source": [
    "__`Dataset link:`__  https://www.kaggle.com/datasets/uciml/zoo-animal-classification"
   ]
  },
  {
   "cell_type": "markdown",
   "metadata": {},
   "source": [
    "### Import necessary libraries and modules"
   ]
  },
  {
   "cell_type": "code",
   "execution_count": 24,
   "metadata": {},
   "outputs": [],
   "source": [
    "from sklearn.linear_model import LogisticRegression\n",
    "from sklearn.ensemble import RandomForestClassifier\n",
    "from sklearn.tree import DecisionTreeClassifier\n",
    "from sklearn import tree"
   ]
  },
  {
   "cell_type": "markdown",
   "metadata": {},
   "source": [
    "### Import dataset"
   ]
  },
  {
   "cell_type": "code",
   "execution_count": 25,
   "metadata": {},
   "outputs": [],
   "source": [
    "zoo_df = pd.read_csv(\"zoo.csv\")"
   ]
  },
  {
   "cell_type": "code",
   "execution_count": 26,
   "metadata": {},
   "outputs": [],
   "source": [
    "zoo_des_df = pd.read_csv(\"class.csv\")"
   ]
  },
  {
   "cell_type": "markdown",
   "metadata": {},
   "source": [
    "### Properties of the dataset"
   ]
  },
  {
   "cell_type": "code",
   "execution_count": 27,
   "metadata": {},
   "outputs": [
    {
     "data": {
      "text/html": [
       "<div>\n",
       "<style scoped>\n",
       "    .dataframe tbody tr th:only-of-type {\n",
       "        vertical-align: middle;\n",
       "    }\n",
       "\n",
       "    .dataframe tbody tr th {\n",
       "        vertical-align: top;\n",
       "    }\n",
       "\n",
       "    .dataframe thead th {\n",
       "        text-align: right;\n",
       "    }\n",
       "</style>\n",
       "<table border=\"1\" class=\"dataframe\">\n",
       "  <thead>\n",
       "    <tr style=\"text-align: right;\">\n",
       "      <th></th>\n",
       "      <th>Class_Number</th>\n",
       "      <th>Number_Of_Animal_Species_In_Class</th>\n",
       "      <th>Class_Type</th>\n",
       "      <th>Animal_Names</th>\n",
       "    </tr>\n",
       "  </thead>\n",
       "  <tbody>\n",
       "    <tr>\n",
       "      <th>0</th>\n",
       "      <td>1</td>\n",
       "      <td>41</td>\n",
       "      <td>Mammal</td>\n",
       "      <td>aardvark, antelope, bear, boar, buffalo, calf,...</td>\n",
       "    </tr>\n",
       "    <tr>\n",
       "      <th>1</th>\n",
       "      <td>2</td>\n",
       "      <td>20</td>\n",
       "      <td>Bird</td>\n",
       "      <td>chicken, crow, dove, duck, flamingo, gull, haw...</td>\n",
       "    </tr>\n",
       "    <tr>\n",
       "      <th>2</th>\n",
       "      <td>3</td>\n",
       "      <td>5</td>\n",
       "      <td>Reptile</td>\n",
       "      <td>pitviper, seasnake, slowworm, tortoise, tuatara</td>\n",
       "    </tr>\n",
       "    <tr>\n",
       "      <th>3</th>\n",
       "      <td>4</td>\n",
       "      <td>13</td>\n",
       "      <td>Fish</td>\n",
       "      <td>bass, carp, catfish, chub, dogfish, haddock, h...</td>\n",
       "    </tr>\n",
       "    <tr>\n",
       "      <th>4</th>\n",
       "      <td>5</td>\n",
       "      <td>4</td>\n",
       "      <td>Amphibian</td>\n",
       "      <td>frog, frog, newt, toad</td>\n",
       "    </tr>\n",
       "    <tr>\n",
       "      <th>5</th>\n",
       "      <td>6</td>\n",
       "      <td>8</td>\n",
       "      <td>Bug</td>\n",
       "      <td>flea, gnat, honeybee, housefly, ladybird, moth...</td>\n",
       "    </tr>\n",
       "    <tr>\n",
       "      <th>6</th>\n",
       "      <td>7</td>\n",
       "      <td>10</td>\n",
       "      <td>Invertebrate</td>\n",
       "      <td>clam, crab, crayfish, lobster, octopus, scorpi...</td>\n",
       "    </tr>\n",
       "  </tbody>\n",
       "</table>\n",
       "</div>"
      ],
      "text/plain": [
       "   Class_Number  Number_Of_Animal_Species_In_Class    Class_Type  \\\n",
       "0             1                                 41        Mammal   \n",
       "1             2                                 20          Bird   \n",
       "2             3                                  5       Reptile   \n",
       "3             4                                 13          Fish   \n",
       "4             5                                  4     Amphibian   \n",
       "5             6                                  8           Bug   \n",
       "6             7                                 10  Invertebrate   \n",
       "\n",
       "                                        Animal_Names  \n",
       "0  aardvark, antelope, bear, boar, buffalo, calf,...  \n",
       "1  chicken, crow, dove, duck, flamingo, gull, haw...  \n",
       "2    pitviper, seasnake, slowworm, tortoise, tuatara  \n",
       "3  bass, carp, catfish, chub, dogfish, haddock, h...  \n",
       "4                             frog, frog, newt, toad  \n",
       "5  flea, gnat, honeybee, housefly, ladybird, moth...  \n",
       "6  clam, crab, crayfish, lobster, octopus, scorpi...  "
      ]
     },
     "execution_count": 27,
     "metadata": {},
     "output_type": "execute_result"
    }
   ],
   "source": [
    "zoo_des_df"
   ]
  },
  {
   "cell_type": "code",
   "execution_count": 28,
   "metadata": {},
   "outputs": [
    {
     "data": {
      "text/html": [
       "<div>\n",
       "<style scoped>\n",
       "    .dataframe tbody tr th:only-of-type {\n",
       "        vertical-align: middle;\n",
       "    }\n",
       "\n",
       "    .dataframe tbody tr th {\n",
       "        vertical-align: top;\n",
       "    }\n",
       "\n",
       "    .dataframe thead th {\n",
       "        text-align: right;\n",
       "    }\n",
       "</style>\n",
       "<table border=\"1\" class=\"dataframe\">\n",
       "  <thead>\n",
       "    <tr style=\"text-align: right;\">\n",
       "      <th></th>\n",
       "      <th>animal_name</th>\n",
       "      <th>hair</th>\n",
       "      <th>feathers</th>\n",
       "      <th>eggs</th>\n",
       "      <th>milk</th>\n",
       "      <th>airborne</th>\n",
       "      <th>aquatic</th>\n",
       "      <th>predator</th>\n",
       "      <th>toothed</th>\n",
       "      <th>backbone</th>\n",
       "      <th>breathes</th>\n",
       "      <th>venomous</th>\n",
       "      <th>fins</th>\n",
       "      <th>legs</th>\n",
       "      <th>tail</th>\n",
       "      <th>domestic</th>\n",
       "      <th>catsize</th>\n",
       "      <th>class_type</th>\n",
       "    </tr>\n",
       "  </thead>\n",
       "  <tbody>\n",
       "    <tr>\n",
       "      <th>0</th>\n",
       "      <td>aardvark</td>\n",
       "      <td>1</td>\n",
       "      <td>0</td>\n",
       "      <td>0</td>\n",
       "      <td>1</td>\n",
       "      <td>0</td>\n",
       "      <td>0</td>\n",
       "      <td>1</td>\n",
       "      <td>1</td>\n",
       "      <td>1</td>\n",
       "      <td>1</td>\n",
       "      <td>0</td>\n",
       "      <td>0</td>\n",
       "      <td>4</td>\n",
       "      <td>0</td>\n",
       "      <td>0</td>\n",
       "      <td>1</td>\n",
       "      <td>1</td>\n",
       "    </tr>\n",
       "    <tr>\n",
       "      <th>1</th>\n",
       "      <td>antelope</td>\n",
       "      <td>1</td>\n",
       "      <td>0</td>\n",
       "      <td>0</td>\n",
       "      <td>1</td>\n",
       "      <td>0</td>\n",
       "      <td>0</td>\n",
       "      <td>0</td>\n",
       "      <td>1</td>\n",
       "      <td>1</td>\n",
       "      <td>1</td>\n",
       "      <td>0</td>\n",
       "      <td>0</td>\n",
       "      <td>4</td>\n",
       "      <td>1</td>\n",
       "      <td>0</td>\n",
       "      <td>1</td>\n",
       "      <td>1</td>\n",
       "    </tr>\n",
       "    <tr>\n",
       "      <th>2</th>\n",
       "      <td>bass</td>\n",
       "      <td>0</td>\n",
       "      <td>0</td>\n",
       "      <td>1</td>\n",
       "      <td>0</td>\n",
       "      <td>0</td>\n",
       "      <td>1</td>\n",
       "      <td>1</td>\n",
       "      <td>1</td>\n",
       "      <td>1</td>\n",
       "      <td>0</td>\n",
       "      <td>0</td>\n",
       "      <td>1</td>\n",
       "      <td>0</td>\n",
       "      <td>1</td>\n",
       "      <td>0</td>\n",
       "      <td>0</td>\n",
       "      <td>4</td>\n",
       "    </tr>\n",
       "    <tr>\n",
       "      <th>3</th>\n",
       "      <td>bear</td>\n",
       "      <td>1</td>\n",
       "      <td>0</td>\n",
       "      <td>0</td>\n",
       "      <td>1</td>\n",
       "      <td>0</td>\n",
       "      <td>0</td>\n",
       "      <td>1</td>\n",
       "      <td>1</td>\n",
       "      <td>1</td>\n",
       "      <td>1</td>\n",
       "      <td>0</td>\n",
       "      <td>0</td>\n",
       "      <td>4</td>\n",
       "      <td>0</td>\n",
       "      <td>0</td>\n",
       "      <td>1</td>\n",
       "      <td>1</td>\n",
       "    </tr>\n",
       "    <tr>\n",
       "      <th>4</th>\n",
       "      <td>boar</td>\n",
       "      <td>1</td>\n",
       "      <td>0</td>\n",
       "      <td>0</td>\n",
       "      <td>1</td>\n",
       "      <td>0</td>\n",
       "      <td>0</td>\n",
       "      <td>1</td>\n",
       "      <td>1</td>\n",
       "      <td>1</td>\n",
       "      <td>1</td>\n",
       "      <td>0</td>\n",
       "      <td>0</td>\n",
       "      <td>4</td>\n",
       "      <td>1</td>\n",
       "      <td>0</td>\n",
       "      <td>1</td>\n",
       "      <td>1</td>\n",
       "    </tr>\n",
       "  </tbody>\n",
       "</table>\n",
       "</div>"
      ],
      "text/plain": [
       "  animal_name  hair  feathers  eggs  milk  airborne  aquatic  predator  \\\n",
       "0    aardvark     1         0     0     1         0        0         1   \n",
       "1    antelope     1         0     0     1         0        0         0   \n",
       "2        bass     0         0     1     0         0        1         1   \n",
       "3        bear     1         0     0     1         0        0         1   \n",
       "4        boar     1         0     0     1         0        0         1   \n",
       "\n",
       "   toothed  backbone  breathes  venomous  fins  legs  tail  domestic  catsize  \\\n",
       "0        1         1         1         0     0     4     0         0        1   \n",
       "1        1         1         1         0     0     4     1         0        1   \n",
       "2        1         1         0         0     1     0     1         0        0   \n",
       "3        1         1         1         0     0     4     0         0        1   \n",
       "4        1         1         1         0     0     4     1         0        1   \n",
       "\n",
       "   class_type  \n",
       "0           1  \n",
       "1           1  \n",
       "2           4  \n",
       "3           1  \n",
       "4           1  "
      ]
     },
     "execution_count": 28,
     "metadata": {},
     "output_type": "execute_result"
    }
   ],
   "source": [
    "zoo_df.head()"
   ]
  },
  {
   "cell_type": "code",
   "execution_count": 29,
   "metadata": {},
   "outputs": [
    {
     "name": "stdout",
     "output_type": "stream",
     "text": [
      "There are 101 samples and 18 features with totally 1818 elements in the dataset\n"
     ]
    }
   ],
   "source": [
    "print(\"There are\", zoo_df.shape[0], \"samples and\", zoo_df.shape[1], \"features with totally\", zoo_df.size, \"elements in the dataset\")"
   ]
  },
  {
   "cell_type": "code",
   "execution_count": 30,
   "metadata": {},
   "outputs": [
    {
     "name": "stdout",
     "output_type": "stream",
     "text": [
      "<class 'pandas.core.frame.DataFrame'>\n",
      "RangeIndex: 101 entries, 0 to 100\n",
      "Data columns (total 18 columns):\n",
      " #   Column       Non-Null Count  Dtype \n",
      "---  ------       --------------  ----- \n",
      " 0   animal_name  101 non-null    object\n",
      " 1   hair         101 non-null    int64 \n",
      " 2   feathers     101 non-null    int64 \n",
      " 3   eggs         101 non-null    int64 \n",
      " 4   milk         101 non-null    int64 \n",
      " 5   airborne     101 non-null    int64 \n",
      " 6   aquatic      101 non-null    int64 \n",
      " 7   predator     101 non-null    int64 \n",
      " 8   toothed      101 non-null    int64 \n",
      " 9   backbone     101 non-null    int64 \n",
      " 10  breathes     101 non-null    int64 \n",
      " 11  venomous     101 non-null    int64 \n",
      " 12  fins         101 non-null    int64 \n",
      " 13  legs         101 non-null    int64 \n",
      " 14  tail         101 non-null    int64 \n",
      " 15  domestic     101 non-null    int64 \n",
      " 16  catsize      101 non-null    int64 \n",
      " 17  class_type   101 non-null    int64 \n",
      "dtypes: int64(17), object(1)\n",
      "memory usage: 14.3+ KB\n"
     ]
    }
   ],
   "source": [
    "zoo_df.info()"
   ]
  },
  {
   "cell_type": "code",
   "execution_count": 31,
   "metadata": {},
   "outputs": [
    {
     "data": {
      "text/plain": [
       "1    41\n",
       "2    20\n",
       "4    13\n",
       "7    10\n",
       "6     8\n",
       "3     5\n",
       "5     4\n",
       "Name: class_type, dtype: int64"
      ]
     },
     "execution_count": 31,
     "metadata": {},
     "output_type": "execute_result"
    }
   ],
   "source": [
    "zoo_df.class_type.value_counts()"
   ]
  },
  {
   "cell_type": "markdown",
   "metadata": {},
   "source": [
    "### Extraction of input and output features from zoo dataset"
   ]
  },
  {
   "cell_type": "code",
   "execution_count": 32,
   "metadata": {},
   "outputs": [],
   "source": [
    "X_zoo = zoo_df.drop(['animal_name', 'class_type'], axis = 1)\n",
    "y_zoo = zoo_df['class_type']"
   ]
  },
  {
   "cell_type": "markdown",
   "metadata": {},
   "source": [
    "### Split data into train and test sets"
   ]
  },
  {
   "cell_type": "code",
   "execution_count": 33,
   "metadata": {},
   "outputs": [
    {
     "name": "stdout",
     "output_type": "stream",
     "text": [
      "Shape of zoo training set:\n",
      "X_train (67, 16)\n",
      "y_train (67,)\n",
      "\n",
      "\n",
      "Shape of zoo testing set:\n",
      "X_test (34, 16)\n",
      "y_test (34,)\n"
     ]
    }
   ],
   "source": [
    "X_train_zoo, X_test_zoo, y_train_zoo, y_test_zoo = train_test_split( X_zoo, y_zoo, test_size = 0.33, random_state = 0)\n",
    "\n",
    "print(\"Shape of zoo training set:\")\n",
    "print(\"X_train\", X_train_zoo.shape)\n",
    "print(\"y_train\", y_train_zoo.shape)\n",
    "print(\"\\n\")\n",
    "print(\"Shape of zoo testing set:\")\n",
    "print(\"X_test\", X_test_zoo.shape)\n",
    "print(\"y_test\", y_test_zoo.shape)"
   ]
  },
  {
   "cell_type": "markdown",
   "metadata": {},
   "source": [
    "### Model Building and Evaluation"
   ]
  },
  {
   "cell_type": "code",
   "execution_count": 34,
   "metadata": {},
   "outputs": [],
   "source": [
    "ss_lor = [('ss', StandardScaler()), ('lor', LogisticRegression())]\n",
    "mm_lor = [('mm', MinMaxScaler()), ('lor', LogisticRegression())]\n",
    "\n",
    "ss_dtc = [('ss', StandardScaler()), ('dtc', DecisionTreeClassifier())]\n",
    "mm_dtc = [('mm', MinMaxScaler()), ('dtc', DecisionTreeClassifier())]\n",
    "\n",
    "ss_rfc = [('ss', StandardScaler()), ('rfc', RandomForestClassifier())]\n",
    "mm_rfc = [('mm', MinMaxScaler()), ('rfc', RandomForestClassifier())]\n",
    "\n",
    "classifier_models = { \n",
    "    \"Logistic Regression\": LogisticRegression(),\n",
    "    \"Logistic Regression with StandardScaler\": Pipeline(ss_lor),\n",
    "    \"Logistic Regression with MinMaxScaler\": Pipeline(mm_lor),  \n",
    "    \"Decision Tree Classifier\": DecisionTreeClassifier(),\n",
    "    \"Decision Tree Classifier with StandardScaler\": Pipeline(ss_dtc),\n",
    "    \"Decision Tree Classifier with MinMaxScaler\": Pipeline(mm_dtc),  \n",
    "    \"Random Forest Classifier\": RandomForestClassifier(),\n",
    "    \"Random Forest Classifier with StandardScaler\": Pipeline(ss_rfc),\n",
    "    \"Random Forest Classifier with MinMaxScaler\": Pipeline(mm_rfc)\n",
    "}"
   ]
  },
  {
   "cell_type": "code",
   "execution_count": 49,
   "metadata": {},
   "outputs": [],
   "source": [
    "no_classifiers = len(classifier_models.keys())\n",
    "\n",
    "def build_classifier(X_train, X_test, y_train, y_test, verbose = True):\n",
    "    \n",
    "    df_results = pd.DataFrame(data=np.zeros(shape=(no_classifiers, 3)), columns = ['Classifier', 'Accuracy', 'Training time'])\n",
    "    \n",
    "    count = 0\n",
    "    for key, model in classifier_models.items():\n",
    "        \n",
    "        t_start = process_time()  \n",
    "        model.fit(X_train, y_train)\n",
    "        \n",
    "        t_stop = process_time() \n",
    "        t_elapsed = t_stop - t_start\n",
    "        \n",
    "        y_pred = model.predict(X_test)\n",
    "        \n",
    "        df_results.loc[count,'Classifier'] = key\n",
    "        df_results.loc[count,'Accuracy'] = accuracy_score(y_test, y_pred)\n",
    "        df_results.loc[count,'Training time'] = t_elapsed\n",
    "        \n",
    "        count+=1\n",
    "\n",
    "    return df_results"
   ]
  },
  {
   "cell_type": "code",
   "execution_count": 50,
   "metadata": {},
   "outputs": [
    {
     "data": {
      "text/html": [
       "<div>\n",
       "<style scoped>\n",
       "    .dataframe tbody tr th:only-of-type {\n",
       "        vertical-align: middle;\n",
       "    }\n",
       "\n",
       "    .dataframe tbody tr th {\n",
       "        vertical-align: top;\n",
       "    }\n",
       "\n",
       "    .dataframe thead th {\n",
       "        text-align: right;\n",
       "    }\n",
       "</style>\n",
       "<table border=\"1\" class=\"dataframe\">\n",
       "  <thead>\n",
       "    <tr style=\"text-align: right;\">\n",
       "      <th></th>\n",
       "      <th>Classifier</th>\n",
       "      <th>Accuracy</th>\n",
       "      <th>Training time</th>\n",
       "    </tr>\n",
       "  </thead>\n",
       "  <tbody>\n",
       "    <tr>\n",
       "      <th>3</th>\n",
       "      <td>Decision Tree Classifier</td>\n",
       "      <td>0.970588</td>\n",
       "      <td>0.000000</td>\n",
       "    </tr>\n",
       "    <tr>\n",
       "      <th>1</th>\n",
       "      <td>Logistic Regression with StandardScaler</td>\n",
       "      <td>0.882353</td>\n",
       "      <td>0.031250</td>\n",
       "    </tr>\n",
       "    <tr>\n",
       "      <th>4</th>\n",
       "      <td>Decision Tree Classifier with StandardScaler</td>\n",
       "      <td>0.882353</td>\n",
       "      <td>0.000000</td>\n",
       "    </tr>\n",
       "    <tr>\n",
       "      <th>5</th>\n",
       "      <td>Decision Tree Classifier with MinMaxScaler</td>\n",
       "      <td>0.882353</td>\n",
       "      <td>0.015625</td>\n",
       "    </tr>\n",
       "    <tr>\n",
       "      <th>6</th>\n",
       "      <td>Random Forest Classifier</td>\n",
       "      <td>0.882353</td>\n",
       "      <td>0.203125</td>\n",
       "    </tr>\n",
       "    <tr>\n",
       "      <th>7</th>\n",
       "      <td>Random Forest Classifier with StandardScaler</td>\n",
       "      <td>0.882353</td>\n",
       "      <td>0.203125</td>\n",
       "    </tr>\n",
       "    <tr>\n",
       "      <th>8</th>\n",
       "      <td>Random Forest Classifier with MinMaxScaler</td>\n",
       "      <td>0.882353</td>\n",
       "      <td>0.203125</td>\n",
       "    </tr>\n",
       "    <tr>\n",
       "      <th>0</th>\n",
       "      <td>Logistic Regression</td>\n",
       "      <td>0.852941</td>\n",
       "      <td>0.093750</td>\n",
       "    </tr>\n",
       "    <tr>\n",
       "      <th>2</th>\n",
       "      <td>Logistic Regression with MinMaxScaler</td>\n",
       "      <td>0.852941</td>\n",
       "      <td>0.015625</td>\n",
       "    </tr>\n",
       "  </tbody>\n",
       "</table>\n",
       "</div>"
      ],
      "text/plain": [
       "                                     Classifier  Accuracy  Training time\n",
       "3                      Decision Tree Classifier  0.970588       0.000000\n",
       "1       Logistic Regression with StandardScaler  0.882353       0.031250\n",
       "4  Decision Tree Classifier with StandardScaler  0.882353       0.000000\n",
       "5    Decision Tree Classifier with MinMaxScaler  0.882353       0.015625\n",
       "6                      Random Forest Classifier  0.882353       0.203125\n",
       "7  Random Forest Classifier with StandardScaler  0.882353       0.203125\n",
       "8    Random Forest Classifier with MinMaxScaler  0.882353       0.203125\n",
       "0                           Logistic Regression  0.852941       0.093750\n",
       "2         Logistic Regression with MinMaxScaler  0.852941       0.015625"
      ]
     },
     "execution_count": 50,
     "metadata": {},
     "output_type": "execute_result"
    }
   ],
   "source": [
    "zoo_df_results = build_classifier(X_train_zoo, X_test_zoo, y_train_zoo, y_test_zoo)\n",
    "zoo_df_results.sort_values(by='Accuracy', ascending=False)"
   ]
  },
  {
   "cell_type": "markdown",
   "metadata": {},
   "source": [
    "### Best Model"
   ]
  },
  {
   "cell_type": "markdown",
   "metadata": {},
   "source": [
    "__Decision Tree Classifier with highest `Accuracy of 97%` is the best model__"
   ]
  },
  {
   "cell_type": "code",
   "execution_count": 54,
   "metadata": {},
   "outputs": [
    {
     "name": "stdout",
     "output_type": "stream",
     "text": [
      "Classifier Results:\n",
      "\n",
      "Accuracy of the best Classifier = 0.9705882352941176\n"
     ]
    }
   ],
   "source": [
    "clf = DecisionTreeClassifier()\n",
    "\n",
    "clf.fit(X_train_zoo, y_train_zoo)\n",
    "\n",
    "clf_y_pred = clf.predict(X_test_zoo)\n",
    "\n",
    "print(\"Classifier Results:\\n\")\n",
    "\n",
    "print(\"Accuracy of the best Classifier =\", accuracy_score(y_test_zoo, clf_y_pred))"
   ]
  },
  {
   "cell_type": "code",
   "execution_count": 55,
   "metadata": {},
   "outputs": [
    {
     "name": "stdout",
     "output_type": "stream",
     "text": [
      "Report:\n",
      "               precision    recall  f1-score   support\n",
      "\n",
      "           1       1.00      1.00      1.00        12\n",
      "           2       1.00      1.00      1.00         6\n",
      "           3       1.00      0.75      0.86         4\n",
      "           4       1.00      1.00      1.00         7\n",
      "           5       0.50      1.00      0.67         1\n",
      "           6       1.00      1.00      1.00         2\n",
      "           7       1.00      1.00      1.00         2\n",
      "\n",
      "    accuracy                           0.97        34\n",
      "   macro avg       0.93      0.96      0.93        34\n",
      "weighted avg       0.99      0.97      0.97        34\n",
      "\n"
     ]
    }
   ],
   "source": [
    "print(\"Report:\\n\", classification_report(y_test_zoo, clf_y_pred))"
   ]
  },
  {
   "cell_type": "markdown",
   "metadata": {},
   "source": [
    "### Visualization using graphviz for zoo data"
   ]
  },
  {
   "cell_type": "code",
   "execution_count": 61,
   "metadata": {},
   "outputs": [],
   "source": [
    "with open(\"tree_zoo.dot\",'w') as f:\n",
    "    f= tree.export_graphviz(clf, out_file=f, impurity= False, feature_names = X_zoo.columns.values, filled=True)"
   ]
  },
  {
   "cell_type": "code",
   "execution_count": 62,
   "metadata": {},
   "outputs": [
    {
     "name": "stdout",
     "output_type": "stream",
     "text": [
      "digraph Tree {\n",
      "node [shape=box, style=\"filled\", color=\"black\"] ;\n",
      "0 [label=\"milk <= 0.5\\nsamples = 67\\nvalue = [29, 14, 1, 6, 3, 6, 8]\", fillcolor=\"#f8dbc7\"] ;\n",
      "1 [label=\"feathers <= 0.5\\nsamples = 38\\nvalue = [0, 14, 1, 6, 3, 6, 8]\", fillcolor=\"#f1fad7\"] ;\n",
      "0 -> 1 [labeldistance=2.5, labelangle=45, headlabel=\"True\"] ;\n",
      "2 [label=\"fins <= 0.5\\nsamples = 24\\nvalue = [0, 0, 1, 6, 3, 6, 8]\", fillcolor=\"#fce9f2\"] ;\n",
      "1 -> 2 ;\n",
      "3 [label=\"airborne <= 0.5\\nsamples = 18\\nvalue = [0, 0, 1, 0, 3, 6, 8]\", fillcolor=\"#fbdeeb\"] ;\n",
      "2 -> 3 ;\n",
      "4 [label=\"backbone <= 0.5\\nsamples = 13\\nvalue = [0, 0, 1, 0, 3, 1, 8]\", fillcolor=\"#f29cc2\"] ;\n",
      "3 -> 4 ;\n",
      "5 [label=\"predator <= 0.5\\nsamples = 9\\nvalue = [0, 0, 0, 0, 0, 1, 8]\", fillcolor=\"#e85295\"] ;\n",
      "4 -> 5 ;\n",
      "6 [label=\"legs <= 3.0\\nsamples = 3\\nvalue = [0, 0, 0, 0, 0, 1, 2]\", fillcolor=\"#f29cc2\"] ;\n",
      "5 -> 6 ;\n",
      "7 [label=\"samples = 2\\nvalue = [0, 0, 0, 0, 0, 0, 2]\", fillcolor=\"#e53986\"] ;\n",
      "6 -> 7 ;\n",
      "8 [label=\"samples = 1\\nvalue = [0, 0, 0, 0, 0, 1, 0]\", fillcolor=\"#b139e5\"] ;\n",
      "6 -> 8 ;\n",
      "9 [label=\"samples = 6\\nvalue = [0, 0, 0, 0, 0, 0, 6]\", fillcolor=\"#e53986\"] ;\n",
      "5 -> 9 ;\n",
      "10 [label=\"aquatic <= 0.5\\nsamples = 4\\nvalue = [0, 0, 1, 0, 3, 0, 0]\", fillcolor=\"#7b8eee\"] ;\n",
      "4 -> 10 ;\n",
      "11 [label=\"samples = 1\\nvalue = [0, 0, 1, 0, 0, 0, 0]\", fillcolor=\"#39e54d\"] ;\n",
      "10 -> 11 ;\n",
      "12 [label=\"samples = 3\\nvalue = [0, 0, 0, 0, 3, 0, 0]\", fillcolor=\"#3956e5\"] ;\n",
      "10 -> 12 ;\n",
      "13 [label=\"samples = 5\\nvalue = [0, 0, 0, 0, 0, 5, 0]\", fillcolor=\"#b139e5\"] ;\n",
      "3 -> 13 ;\n",
      "14 [label=\"samples = 6\\nvalue = [0, 0, 0, 6, 0, 0, 0]\", fillcolor=\"#39e5e2\"] ;\n",
      "2 -> 14 ;\n",
      "15 [label=\"samples = 14\\nvalue = [0, 14, 0, 0, 0, 0, 0]\", fillcolor=\"#b7e539\"] ;\n",
      "1 -> 15 ;\n",
      "16 [label=\"samples = 29\\nvalue = [29, 0, 0, 0, 0, 0, 0]\", fillcolor=\"#e58139\"] ;\n",
      "0 -> 16 [labeldistance=2.5, labelangle=-45, headlabel=\"False\"] ;\n",
      "}\n"
     ]
    }
   ],
   "source": [
    "!type tree_zoo.dot"
   ]
  },
  {
   "cell_type": "code",
   "execution_count": 63,
   "metadata": {},
   "outputs": [
    {
     "data": {
      "text/plain": [
       "[Text(273.92727272727274, 203.85, 'X[3] <= 0.5\\ngini = 0.736\\nsamples = 67\\nvalue = [29, 14, 1, 6, 3, 6, 8]'),\n",
       " Text(243.4909090909091, 176.67000000000002, 'X[1] <= 0.5\\ngini = 0.763\\nsamples = 38\\nvalue = [0, 14, 1, 6, 3, 6, 8]'),\n",
       " Text(213.05454545454546, 149.49, 'X[11] <= 0.5\\ngini = 0.747\\nsamples = 24\\nvalue = [0, 0, 1, 6, 3, 6, 8]'),\n",
       " Text(182.61818181818182, 122.31, 'X[4] <= 0.5\\ngini = 0.66\\nsamples = 18\\nvalue = [0, 0, 1, 0, 3, 6, 8]'),\n",
       " Text(152.1818181818182, 95.13, 'X[8] <= 0.5\\ngini = 0.556\\nsamples = 13\\nvalue = [0, 0, 1, 0, 3, 1, 8]'),\n",
       " Text(91.30909090909091, 67.94999999999999, 'X[6] <= 0.5\\ngini = 0.198\\nsamples = 9\\nvalue = [0, 0, 0, 0, 0, 1, 8]'),\n",
       " Text(60.872727272727275, 40.77000000000001, 'X[12] <= 3.0\\ngini = 0.444\\nsamples = 3\\nvalue = [0, 0, 0, 0, 0, 1, 2]'),\n",
       " Text(30.436363636363637, 13.590000000000003, 'gini = 0.0\\nsamples = 2\\nvalue = [0, 0, 0, 0, 0, 0, 2]'),\n",
       " Text(91.30909090909091, 13.590000000000003, 'gini = 0.0\\nsamples = 1\\nvalue = [0, 0, 0, 0, 0, 1, 0]'),\n",
       " Text(121.74545454545455, 40.77000000000001, 'gini = 0.0\\nsamples = 6\\nvalue = [0, 0, 0, 0, 0, 0, 6]'),\n",
       " Text(213.05454545454546, 67.94999999999999, 'X[5] <= 0.5\\ngini = 0.375\\nsamples = 4\\nvalue = [0, 0, 1, 0, 3, 0, 0]'),\n",
       " Text(182.61818181818182, 40.77000000000001, 'gini = 0.0\\nsamples = 1\\nvalue = [0, 0, 1, 0, 0, 0, 0]'),\n",
       " Text(243.4909090909091, 40.77000000000001, 'gini = 0.0\\nsamples = 3\\nvalue = [0, 0, 0, 0, 3, 0, 0]'),\n",
       " Text(213.05454545454546, 95.13, 'gini = 0.0\\nsamples = 5\\nvalue = [0, 0, 0, 0, 0, 5, 0]'),\n",
       " Text(243.4909090909091, 122.31, 'gini = 0.0\\nsamples = 6\\nvalue = [0, 0, 0, 6, 0, 0, 0]'),\n",
       " Text(273.92727272727274, 149.49, 'gini = 0.0\\nsamples = 14\\nvalue = [0, 14, 0, 0, 0, 0, 0]'),\n",
       " Text(304.3636363636364, 176.67000000000002, 'gini = 0.0\\nsamples = 29\\nvalue = [29, 0, 0, 0, 0, 0, 0]')]"
      ]
     },
     "execution_count": 63,
     "metadata": {},
     "output_type": "execute_result"
    },
    {
     "data": {
      "image/png": "[encoded data removed]",
      "text/plain": [
       "<Figure size 432x288 with 1 Axes>"
      ]
     },
     "metadata": {
      "needs_background": "light"
     },
     "output_type": "display_data"
    }
   ],
   "source": [
    "tree.plot_tree(clf)"
   ]
  },
  {
   "cell_type": "markdown",
   "metadata": {},
   "source": [
    "### End Notes:"
   ]
  },
  {
   "cell_type": "markdown",
   "metadata": {},
   "source": [
    "In Regression Task for prediction of Chennai House Price,\n",
    "\n",
    "__Lasso Regression with MinMaxScaler__ with highest `r2 score = 0.673687` and with lowest `RMSE = 56.381385` is the best model."
   ]
  },
  {
   "cell_type": "markdown",
   "metadata": {},
   "source": [
    "In Classification Task for classifying the Animals based upon its type, \n",
    "\n",
    "__Decision Tree Classifier__ with highest `Accuracy of 97%` is the best model."
   ]
  },
  {
   "cell_type": "code",
   "execution_count": null,
   "metadata": {},
   "outputs": [],
   "source": []
  }
 ],
 "metadata": {
  "kernelspec": {
   "display_name": "Python 3 (ipykernel)",
   "language": "python",
   "name": "python3"
  },
  "language_info": {
   "codemirror_mode": {
    "name": "ipython",
    "version": 3
   },
   "file_extension": ".py",
   "mimetype": "text/x-python",
   "name": "python",
   "nbconvert_exporter": "python",
   "pygments_lexer": "ipython3",
   "version": "3.9.7"
  }
 },
 "nbformat": 4,
 "nbformat_minor": 2
}
